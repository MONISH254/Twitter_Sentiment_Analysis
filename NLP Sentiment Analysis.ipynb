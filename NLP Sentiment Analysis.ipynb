{
 "cells": [
  {
   "cell_type": "markdown",
   "id": "79ba6d16",
   "metadata": {},
   "source": [
    "# 1. Introduction\n",
    "\n",
    "## 1.1. Project Overview\n",
    "\n",
    "This project focuses on analyzing public sentiment from Tweets regarding Apple and Google products. The main goal is to build a Natural Language Processing (NLP) model that can classify the sentiment of a Tweet as positive, negative, or neutral based on its content.\n",
    "\n",
    "The data, sourced from [CrowdFlower](https://data.world/crowdflower/brands-and-product-emotions), contains over 9,000 Tweets labeled by human raters. By analyzing this data, the model will help Apple and Google better understand customer perceptions of their products, allowing them to make informed decisions for marketing, customer service, and product development.\n",
    "\n",
    "We will begin by preprocessing the Tweets, transforming them into a numerical format suitable for machine learning models, and training several classification algorithms to evaluate their performance.\n"
   ]
  },
  {
   "cell_type": "markdown",
   "id": "8dd54f8d",
   "metadata": {},
   "source": [
    "## 1.2. Business Problem & Stakeholder\n",
    "\n",
    "### Business Problem:\n",
    "Public perception of tech products can heavily influence a company's sales, customer satisfaction, and brand loyalty. For companies like Apple and Google, understanding how customers feel about their products can provide valuable insights into areas for improvement, marketing strategies, and product development. \n",
    "\n",
    "In this project, we aim to develop a model that automatically classifies the sentiment of Tweets regarding Apple and Google products as positive, negative, or neutral. This can help companies quickly gauge public sentiment at scale, providing actionable insights for decision-making.\n",
    "\n",
    "### Stakeholders:\n",
    "- **Apple and Google Product Teams:** Use sentiment data to improve products and address customer pain points.\n",
    "- **Marketing Departments:** Tailor campaigns to target sentiment-driven messaging.\n",
    "- **Customer Support Teams:** Identify negative feedback more quickly to address concerns.\n",
    "- **Executives/Decision Makers:** Gain a high-level view of public opinion, enabling better strategic planning.\n"
   ]
  },
  {
   "cell_type": "markdown",
   "id": "09d2dfc2",
   "metadata": {},
   "source": [
    "## 1.3. Dataset Description\n",
    "\n",
    "The dataset used in this project comes from [CrowdFlower](https://data.world/crowdflower/brands-and-product-emotions), containing over 9,000 Tweets. Each Tweet has been labeled by human raters with one of three sentiment categories: positive, negative, or neither. The dataset contains the following key columns:\n",
    "\n",
    "### Key Features of the Dataset:\n",
    "- **Text**: The actual content of the Tweet, which we will analyze for sentiment classification.\n",
    "- **Brand/Product**: The specific product or brand mentioned in the Tweet, such as `iPhone`, `Google`, or `iPad`.\n",
    "- **Emotion**: The sentiment label, representing whether the sentiment expressed in the Tweet is `Positive emotion`, `Negative emotion`, or neutral.\n",
    "\n",
    "### Target Variable:\n",
    "- **Emotion**: This will be the target variable, as it captures the sentiment associated with each Tweet.\n",
    "\n",
    "The dataset will be used to train and evaluate models that can predict the sentiment of unseen Tweets based on their text content.\n"
   ]
  },
  {
   "cell_type": "markdown",
   "id": "ee835c8e",
   "metadata": {},
   "source": [
    "## 1.4. Objectives\n",
    "\n",
    "### Specific Objective\n",
    "- Develop a Natural Language Processing (NLP) model to accurately classify the sentiment of Tweets about Apple and Google products into three categories: positive, negative, and neutral."
   ]
  },
  {
   "cell_type": "markdown",
   "id": "76dfc0eb",
   "metadata": {},
   "source": [
    "### Additional Objectives\n",
    "\n",
    "1. **Data Preprocessing**: Clean and prepare the Tweet data for analysis, which includes handling missing values, normalizing text (removing URLs, special characters, etc.), and tokenization.\n",
    "\n",
    "2. **Exploratory Data Analysis (EDA)**: Conduct exploratory analysis to understand the distribution of sentiments in the dataset, identify any patterns, and visualize key aspects of the data.\n",
    "\n",
    "3. **Model Development**: Implement and train various classification models (e.g., Logistic Regression, Support Vector Machines, and Naive Bayes) to classify the sentiment of Tweets.\n",
    "\n",
    "4. **Model Evaluation**: Evaluate the performance of the models using appropriate metrics such as accuracy, precision, recall, and F1 score, especially focusing on multiclass classification metrics.\n",
    "\n",
    "5. **Iterative Improvement**: Based on initial results, refine the models by incorporating advanced techniques such as feature engineering, hyperparameter tuning, or using pre-trained embeddings like Word2Vec or BERT.\n",
    "\n",
    "6. **Conclusion and Recommendations**: Summarize the findings, discuss the model's effectiveness, and provide actionable recommendations for stakeholders based on the analysis.\n"
   ]
  },
  {
   "cell_type": "markdown",
   "id": "c8bb43a0",
   "metadata": {},
   "source": [
    "# 2. Data Understanding & Exploration"
   ]
  },
  {
   "cell_type": "markdown",
   "id": "42ac1151",
   "metadata": {},
   "source": [
    "## 2.1. Data Loading & Initial Exploration"
   ]
  },
  {
   "cell_type": "markdown",
   "id": "419814c7",
   "metadata": {},
   "source": [
    "In this step, we will:\n",
    "\n",
    "1. Load the dataset.\n",
    "2. Display the first few rows to understand the structure.\n",
    "3. Check the data types of each column.\n",
    "4. Identify missing values and duplicates.\n",
    "5. Analyze the class distribution to check for potential imbalance.\n",
    "6. Perform basic descriptive statistics (e.g., distribution of Tweet lengths and word counts)."
   ]
  },
  {
   "cell_type": "code",
   "execution_count": 132,
   "id": "a751371c",
   "metadata": {},
   "outputs": [],
   "source": [
    "# Importing the necessary libraries\n",
    "import pandas as pd \n",
    "import numpy as np\n",
    "import matplotlib.pyplot as plt\n",
    "import seaborn as sns\n",
    "\n",
    "# Display settings\n",
    "%matplotlib inline\n",
    "plt.style.use('ggplot')  # for nicer visualizations\n",
    "sns.set_palette(\"Set2\")  # Set Seaborn color palette"
   ]
  },
  {
   "cell_type": "code",
   "execution_count": 133,
   "id": "81c2a118",
   "metadata": {},
   "outputs": [],
   "source": [
    "# Load the dataset\n",
    "raw_data = pd.read_csv(\"judge-1377884607_tweet_product_company.csv\", encoding = \"latin1\")"
   ]
  },
  {
   "cell_type": "code",
   "execution_count": 134,
   "id": "9044c741",
   "metadata": {},
   "outputs": [
    {
     "data": {
      "text/html": [
       "<div>\n",
       "<style scoped>\n",
       "    .dataframe tbody tr th:only-of-type {\n",
       "        vertical-align: middle;\n",
       "    }\n",
       "\n",
       "    .dataframe tbody tr th {\n",
       "        vertical-align: top;\n",
       "    }\n",
       "\n",
       "    .dataframe thead th {\n",
       "        text-align: right;\n",
       "    }\n",
       "</style>\n",
       "<table border=\"1\" class=\"dataframe\">\n",
       "  <thead>\n",
       "    <tr style=\"text-align: right;\">\n",
       "      <th></th>\n",
       "      <th>tweet_text</th>\n",
       "      <th>emotion_in_tweet_is_directed_at</th>\n",
       "      <th>is_there_an_emotion_directed_at_a_brand_or_product</th>\n",
       "    </tr>\n",
       "  </thead>\n",
       "  <tbody>\n",
       "    <tr>\n",
       "      <th>0</th>\n",
       "      <td>.@wesley83 I have a 3G iPhone. After 3 hrs tweeting at #RISE_Austin, it was dead!  I need to upgrade. Plugin stations at #SXSW.</td>\n",
       "      <td>iPhone</td>\n",
       "      <td>Negative emotion</td>\n",
       "    </tr>\n",
       "    <tr>\n",
       "      <th>1</th>\n",
       "      <td>@jessedee Know about @fludapp ? Awesome iPad/iPhone app that you'll likely appreciate for its design. Also, they're giving free Ts at #SXSW</td>\n",
       "      <td>iPad or iPhone App</td>\n",
       "      <td>Positive emotion</td>\n",
       "    </tr>\n",
       "    <tr>\n",
       "      <th>2</th>\n",
       "      <td>@swonderlin Can not wait for #iPad 2 also. They should sale them down at #SXSW.</td>\n",
       "      <td>iPad</td>\n",
       "      <td>Positive emotion</td>\n",
       "    </tr>\n",
       "    <tr>\n",
       "      <th>3</th>\n",
       "      <td>@sxsw I hope this year's festival isn't as crashy as this year's iPhone app. #sxsw</td>\n",
       "      <td>iPad or iPhone App</td>\n",
       "      <td>Negative emotion</td>\n",
       "    </tr>\n",
       "    <tr>\n",
       "      <th>4</th>\n",
       "      <td>@sxtxstate great stuff on Fri #SXSW: Marissa Mayer (Google), Tim O'Reilly (tech books/conferences) &amp;amp; Matt Mullenweg (Wordpress)</td>\n",
       "      <td>Google</td>\n",
       "      <td>Positive emotion</td>\n",
       "    </tr>\n",
       "  </tbody>\n",
       "</table>\n",
       "</div>"
      ],
      "text/plain": [
       "                                                                                                                                    tweet_text  \\\n",
       "0              .@wesley83 I have a 3G iPhone. After 3 hrs tweeting at #RISE_Austin, it was dead!  I need to upgrade. Plugin stations at #SXSW.   \n",
       "1  @jessedee Know about @fludapp ? Awesome iPad/iPhone app that you'll likely appreciate for its design. Also, they're giving free Ts at #SXSW   \n",
       "2                                                              @swonderlin Can not wait for #iPad 2 also. They should sale them down at #SXSW.   \n",
       "3                                                           @sxsw I hope this year's festival isn't as crashy as this year's iPhone app. #sxsw   \n",
       "4          @sxtxstate great stuff on Fri #SXSW: Marissa Mayer (Google), Tim O'Reilly (tech books/conferences) &amp; Matt Mullenweg (Wordpress)   \n",
       "\n",
       "  emotion_in_tweet_is_directed_at  \\\n",
       "0                          iPhone   \n",
       "1              iPad or iPhone App   \n",
       "2                            iPad   \n",
       "3              iPad or iPhone App   \n",
       "4                          Google   \n",
       "\n",
       "  is_there_an_emotion_directed_at_a_brand_or_product  \n",
       "0                                   Negative emotion  \n",
       "1                                   Positive emotion  \n",
       "2                                   Positive emotion  \n",
       "3                                   Negative emotion  \n",
       "4                                   Positive emotion  "
      ]
     },
     "execution_count": 134,
     "metadata": {},
     "output_type": "execute_result"
    }
   ],
   "source": [
    "# Display the first 5 rows\n",
    "raw_data.head()"
   ]
  },
  {
   "cell_type": "markdown",
   "id": "57c1fed1-82dd-4282-9676-685018fc0260",
   "metadata": {},
   "source": [
    "The column names seem to be unnecessarily long, we'll rename them to improve readability."
   ]
  },
  {
   "cell_type": "code",
   "execution_count": 135,
   "id": "f32760d7-b455-466b-9bad-2151b0568207",
   "metadata": {},
   "outputs": [
    {
     "data": {
      "text/html": [
       "<div>\n",
       "<style scoped>\n",
       "    .dataframe tbody tr th:only-of-type {\n",
       "        vertical-align: middle;\n",
       "    }\n",
       "\n",
       "    .dataframe tbody tr th {\n",
       "        vertical-align: top;\n",
       "    }\n",
       "\n",
       "    .dataframe thead th {\n",
       "        text-align: right;\n",
       "    }\n",
       "</style>\n",
       "<table border=\"1\" class=\"dataframe\">\n",
       "  <thead>\n",
       "    <tr style=\"text-align: right;\">\n",
       "      <th></th>\n",
       "      <th>Text</th>\n",
       "      <th>Brand/Product</th>\n",
       "      <th>Emotion</th>\n",
       "    </tr>\n",
       "  </thead>\n",
       "  <tbody>\n",
       "    <tr>\n",
       "      <th>0</th>\n",
       "      <td>.@wesley83 I have a 3G iPhone. After 3 hrs tweeting at #RISE_Austin, it was dead!  I need to upgrade. Plugin stations at #SXSW.</td>\n",
       "      <td>iPhone</td>\n",
       "      <td>Negative emotion</td>\n",
       "    </tr>\n",
       "    <tr>\n",
       "      <th>1</th>\n",
       "      <td>@jessedee Know about @fludapp ? Awesome iPad/iPhone app that you'll likely appreciate for its design. Also, they're giving free Ts at #SXSW</td>\n",
       "      <td>iPad or iPhone App</td>\n",
       "      <td>Positive emotion</td>\n",
       "    </tr>\n",
       "    <tr>\n",
       "      <th>2</th>\n",
       "      <td>@swonderlin Can not wait for #iPad 2 also. They should sale them down at #SXSW.</td>\n",
       "      <td>iPad</td>\n",
       "      <td>Positive emotion</td>\n",
       "    </tr>\n",
       "    <tr>\n",
       "      <th>3</th>\n",
       "      <td>@sxsw I hope this year's festival isn't as crashy as this year's iPhone app. #sxsw</td>\n",
       "      <td>iPad or iPhone App</td>\n",
       "      <td>Negative emotion</td>\n",
       "    </tr>\n",
       "    <tr>\n",
       "      <th>4</th>\n",
       "      <td>@sxtxstate great stuff on Fri #SXSW: Marissa Mayer (Google), Tim O'Reilly (tech books/conferences) &amp;amp; Matt Mullenweg (Wordpress)</td>\n",
       "      <td>Google</td>\n",
       "      <td>Positive emotion</td>\n",
       "    </tr>\n",
       "  </tbody>\n",
       "</table>\n",
       "</div>"
      ],
      "text/plain": [
       "                                                                                                                                          Text  \\\n",
       "0              .@wesley83 I have a 3G iPhone. After 3 hrs tweeting at #RISE_Austin, it was dead!  I need to upgrade. Plugin stations at #SXSW.   \n",
       "1  @jessedee Know about @fludapp ? Awesome iPad/iPhone app that you'll likely appreciate for its design. Also, they're giving free Ts at #SXSW   \n",
       "2                                                              @swonderlin Can not wait for #iPad 2 also. They should sale them down at #SXSW.   \n",
       "3                                                           @sxsw I hope this year's festival isn't as crashy as this year's iPhone app. #sxsw   \n",
       "4          @sxtxstate great stuff on Fri #SXSW: Marissa Mayer (Google), Tim O'Reilly (tech books/conferences) &amp; Matt Mullenweg (Wordpress)   \n",
       "\n",
       "        Brand/Product           Emotion  \n",
       "0              iPhone  Negative emotion  \n",
       "1  iPad or iPhone App  Positive emotion  \n",
       "2                iPad  Positive emotion  \n",
       "3  iPad or iPhone App  Negative emotion  \n",
       "4              Google  Positive emotion  "
      ]
     },
     "execution_count": 135,
     "metadata": {},
     "output_type": "execute_result"
    }
   ],
   "source": [
    "# Renaming the columns\n",
    "raw_data.columns = [\"Text\", \"Brand/Product\", \"Emotion\"]\n",
    "raw_data.head()"
   ]
  },
  {
   "cell_type": "code",
   "execution_count": 136,
   "id": "db0f924d",
   "metadata": {},
   "outputs": [
    {
     "data": {
      "text/plain": [
       "(9093, 3)"
      ]
     },
     "execution_count": 136,
     "metadata": {},
     "output_type": "execute_result"
    }
   ],
   "source": [
    "# Checking the number of raws and columns\n",
    "raw_data.shape"
   ]
  },
  {
   "cell_type": "code",
   "execution_count": 137,
   "id": "fc3ac33a",
   "metadata": {},
   "outputs": [
    {
     "name": "stdout",
     "output_type": "stream",
     "text": [
      "<class 'pandas.core.frame.DataFrame'>\n",
      "RangeIndex: 9093 entries, 0 to 9092\n",
      "Data columns (total 3 columns):\n",
      " #   Column         Non-Null Count  Dtype \n",
      "---  ------         --------------  ----- \n",
      " 0   Text           9092 non-null   object\n",
      " 1   Brand/Product  3291 non-null   object\n",
      " 2   Emotion        9093 non-null   object\n",
      "dtypes: object(3)\n",
      "memory usage: 213.2+ KB\n"
     ]
    }
   ],
   "source": [
    "# Getting an overview of the data types\n",
    "raw_data.info()"
   ]
  },
  {
   "cell_type": "code",
   "execution_count": 138,
   "id": "03d42041",
   "metadata": {},
   "outputs": [
    {
     "data": {
      "text/plain": [
       "Text                1\n",
       "Brand/Product    5802\n",
       "Emotion             0\n",
       "dtype: int64"
      ]
     },
     "execution_count": 138,
     "metadata": {},
     "output_type": "execute_result"
    }
   ],
   "source": [
    "# Checking for missing values\n",
    "raw_data.isnull().sum()"
   ]
  },
  {
   "cell_type": "code",
   "execution_count": 139,
   "id": "53eb0c75-a9d8-4c10-97bb-3c38688d43b8",
   "metadata": {},
   "outputs": [
    {
     "name": "stdout",
     "output_type": "stream",
     "text": [
      "Number of duplicate rows based on the text column: 27\n"
     ]
    }
   ],
   "source": [
    "# Checking for duplicates based on the Text column\n",
    "duplicates = raw_data.duplicated(subset='Text').sum()\n",
    "print(f\"Number of duplicate rows based on the text column: {num_duplicates}\")"
   ]
  },
  {
   "cell_type": "code",
   "execution_count": 140,
   "id": "dc8091c5",
   "metadata": {},
   "outputs": [
    {
     "name": "stdout",
     "output_type": "stream",
     "text": [
      "Tweet Length Statistics:\n",
      "count    9093.000000\n",
      "mean      104.950731\n",
      "std        27.208419\n",
      "min         0.000000\n",
      "25%        86.000000\n",
      "50%       109.000000\n",
      "75%       126.000000\n",
      "max       178.000000\n",
      "Name: tweet_length, dtype: float64\n",
      "Word Count Statistics:\n",
      "count    9093.000000\n",
      "mean       17.763444\n",
      "std         4.964105\n",
      "min         0.000000\n",
      "25%        14.000000\n",
      "50%        18.000000\n",
      "75%        21.000000\n",
      "max        33.000000\n",
      "Name: word_count, dtype: float64\n"
     ]
    }
   ],
   "source": [
    "# Handle missing values in 'Text' column\n",
    "raw_data['Text'] = raw_data['Text'].fillna('')  # Replace NaN with an empty string\n",
    "\n",
    "# Descriptive statistics for tweet length and word count\n",
    "raw_data['tweet_length'] = raw_data['Text'].apply(len)\n",
    "raw_data['word_count'] = raw_data['Text'].apply(lambda x: len(x.split()))\n",
    "\n",
    "print(\"Tweet Length Statistics:\")\n",
    "print(raw_data['tweet_length'].describe())\n",
    "\n",
    "print(\"Word Count Statistics:\")\n",
    "print(raw_data['word_count'].describe())"
   ]
  },
  {
   "cell_type": "markdown",
   "id": "a94717d5",
   "metadata": {},
   "source": [
    "- **Average tweet length** is *105 characters* with a max of *178 characters*.\n",
    "- **Average word count** is around *18 words*, with a maximum of *33 words*."
   ]
  },
  {
   "cell_type": "markdown",
   "id": "e8b0c399",
   "metadata": {},
   "source": [
    "## 2.2. Data Cleaning"
   ]
  },
  {
   "cell_type": "markdown",
   "id": "f071c368",
   "metadata": {},
   "source": [
    "In this section, we will:\n",
    "\n",
    "- Handle missing values in the `Brand/Product` column.\n",
    "- Remove any duplicate rows.\n",
    "- Clean the text data by removing URLs, mentions, and special characters."
   ]
  },
  {
   "cell_type": "markdown",
   "id": "64728b01",
   "metadata": {},
   "source": [
    "### Handling Missing Values\n",
    "\n",
    "Since the `Brand/Product` column contains a large number of missing values, we can consider one of the following approaches:\n",
    "\n",
    "- Dropping the column entirely if it's not necessary for the analysis.\n",
    "- Imputing values, but this might be challenging as this is categorical text data.\n",
    "\n",
    "For now, since this column is not critical to sentiment analysis, we'll drop it."
   ]
  },
  {
   "cell_type": "code",
   "execution_count": 141,
   "id": "d4d80e61",
   "metadata": {},
   "outputs": [
    {
     "data": {
      "text/html": [
       "<div>\n",
       "<style scoped>\n",
       "    .dataframe tbody tr th:only-of-type {\n",
       "        vertical-align: middle;\n",
       "    }\n",
       "\n",
       "    .dataframe tbody tr th {\n",
       "        vertical-align: top;\n",
       "    }\n",
       "\n",
       "    .dataframe thead th {\n",
       "        text-align: right;\n",
       "    }\n",
       "</style>\n",
       "<table border=\"1\" class=\"dataframe\">\n",
       "  <thead>\n",
       "    <tr style=\"text-align: right;\">\n",
       "      <th></th>\n",
       "      <th>Text</th>\n",
       "      <th>Emotion</th>\n",
       "      <th>tweet_length</th>\n",
       "      <th>word_count</th>\n",
       "    </tr>\n",
       "  </thead>\n",
       "  <tbody>\n",
       "    <tr>\n",
       "      <th>0</th>\n",
       "      <td>.@wesley83 I have a 3G iPhone. After 3 hrs tweeting at #RISE_Austin, it was dead!  I need to upgrade. Plugin stations at #SXSW.</td>\n",
       "      <td>Negative emotion</td>\n",
       "      <td>127</td>\n",
       "      <td>23</td>\n",
       "    </tr>\n",
       "    <tr>\n",
       "      <th>1</th>\n",
       "      <td>@jessedee Know about @fludapp ? Awesome iPad/iPhone app that you'll likely appreciate for its design. Also, they're giving free Ts at #SXSW</td>\n",
       "      <td>Positive emotion</td>\n",
       "      <td>139</td>\n",
       "      <td>22</td>\n",
       "    </tr>\n",
       "    <tr>\n",
       "      <th>2</th>\n",
       "      <td>@swonderlin Can not wait for #iPad 2 also. They should sale them down at #SXSW.</td>\n",
       "      <td>Positive emotion</td>\n",
       "      <td>79</td>\n",
       "      <td>15</td>\n",
       "    </tr>\n",
       "    <tr>\n",
       "      <th>3</th>\n",
       "      <td>@sxsw I hope this year's festival isn't as crashy as this year's iPhone app. #sxsw</td>\n",
       "      <td>Negative emotion</td>\n",
       "      <td>82</td>\n",
       "      <td>15</td>\n",
       "    </tr>\n",
       "    <tr>\n",
       "      <th>4</th>\n",
       "      <td>@sxtxstate great stuff on Fri #SXSW: Marissa Mayer (Google), Tim O'Reilly (tech books/conferences) &amp;amp; Matt Mullenweg (Wordpress)</td>\n",
       "      <td>Positive emotion</td>\n",
       "      <td>131</td>\n",
       "      <td>17</td>\n",
       "    </tr>\n",
       "  </tbody>\n",
       "</table>\n",
       "</div>"
      ],
      "text/plain": [
       "                                                                                                                                          Text  \\\n",
       "0              .@wesley83 I have a 3G iPhone. After 3 hrs tweeting at #RISE_Austin, it was dead!  I need to upgrade. Plugin stations at #SXSW.   \n",
       "1  @jessedee Know about @fludapp ? Awesome iPad/iPhone app that you'll likely appreciate for its design. Also, they're giving free Ts at #SXSW   \n",
       "2                                                              @swonderlin Can not wait for #iPad 2 also. They should sale them down at #SXSW.   \n",
       "3                                                           @sxsw I hope this year's festival isn't as crashy as this year's iPhone app. #sxsw   \n",
       "4          @sxtxstate great stuff on Fri #SXSW: Marissa Mayer (Google), Tim O'Reilly (tech books/conferences) &amp; Matt Mullenweg (Wordpress)   \n",
       "\n",
       "            Emotion  tweet_length  word_count  \n",
       "0  Negative emotion           127          23  \n",
       "1  Positive emotion           139          22  \n",
       "2  Positive emotion            79          15  \n",
       "3  Negative emotion            82          15  \n",
       "4  Positive emotion           131          17  "
      ]
     },
     "execution_count": 141,
     "metadata": {},
     "output_type": "execute_result"
    }
   ],
   "source": [
    "# Dropping the 'Brand/Product' column due to many missing values\n",
    "data_cleaned = raw_data.drop(columns=['Brand/Product'])\n",
    "data_cleaned.head()"
   ]
  },
  {
   "cell_type": "markdown",
   "id": "044cb7a2",
   "metadata": {},
   "source": [
    "### Handling Duplicates\n",
    "\n",
    "We'll remove the duplicate rows."
   ]
  },
  {
   "cell_type": "code",
   "execution_count": 142,
   "id": "355dfa5c",
   "metadata": {},
   "outputs": [
    {
     "name": "stdout",
     "output_type": "stream",
     "text": [
      "Number of rows after removing duplicates: 9071\n"
     ]
    }
   ],
   "source": [
    "# Removing duplicate rows\n",
    "data_cleaned = data_cleaned.drop_duplicates()\n",
    "print(f\"Number of rows after removing duplicates: {data_cleaned.shape[0]}\")"
   ]
  },
  {
   "cell_type": "markdown",
   "id": "b4d5c60a",
   "metadata": {},
   "source": [
    "### Cleaning the Text Column\n",
    "\n",
    "To prepare the Text Column for modeling, we'll:\n",
    "\n",
    "- Remove URLs, mentions, and special characters.\n",
    "- Convert text to lowercase for uniformity."
   ]
  },
  {
   "cell_type": "code",
   "execution_count": 143,
   "id": "ca7bcebb",
   "metadata": {},
   "outputs": [
    {
     "data": {
      "text/html": [
       "<div>\n",
       "<style scoped>\n",
       "    .dataframe tbody tr th:only-of-type {\n",
       "        vertical-align: middle;\n",
       "    }\n",
       "\n",
       "    .dataframe tbody tr th {\n",
       "        vertical-align: top;\n",
       "    }\n",
       "\n",
       "    .dataframe thead th {\n",
       "        text-align: right;\n",
       "    }\n",
       "</style>\n",
       "<table border=\"1\" class=\"dataframe\">\n",
       "  <thead>\n",
       "    <tr style=\"text-align: right;\">\n",
       "      <th></th>\n",
       "      <th>Text</th>\n",
       "      <th>cleaned_text</th>\n",
       "    </tr>\n",
       "  </thead>\n",
       "  <tbody>\n",
       "    <tr>\n",
       "      <th>0</th>\n",
       "      <td>.@wesley83 I have a 3G iPhone. After 3 hrs tweeting at #RISE_Austin, it was dead!  I need to upgrade. Plugin stations at #SXSW.</td>\n",
       "      <td>i have a g iphone after  hrs tweeting at  it was dead  i need to upgrade plugin stations at</td>\n",
       "    </tr>\n",
       "    <tr>\n",
       "      <th>1</th>\n",
       "      <td>@jessedee Know about @fludapp ? Awesome iPad/iPhone app that you'll likely appreciate for its design. Also, they're giving free Ts at #SXSW</td>\n",
       "      <td>know about   awesome ipadiphone app that youll likely appreciate for its design also theyre giving free ts at</td>\n",
       "    </tr>\n",
       "    <tr>\n",
       "      <th>2</th>\n",
       "      <td>@swonderlin Can not wait for #iPad 2 also. They should sale them down at #SXSW.</td>\n",
       "      <td>can not wait for   also they should sale them down at</td>\n",
       "    </tr>\n",
       "    <tr>\n",
       "      <th>3</th>\n",
       "      <td>@sxsw I hope this year's festival isn't as crashy as this year's iPhone app. #sxsw</td>\n",
       "      <td>i hope this years festival isnt as crashy as this years iphone app</td>\n",
       "    </tr>\n",
       "    <tr>\n",
       "      <th>4</th>\n",
       "      <td>@sxtxstate great stuff on Fri #SXSW: Marissa Mayer (Google), Tim O'Reilly (tech books/conferences) &amp;amp; Matt Mullenweg (Wordpress)</td>\n",
       "      <td>great stuff on fri  marissa mayer google tim oreilly tech booksconferences amp matt mullenweg wordpress</td>\n",
       "    </tr>\n",
       "  </tbody>\n",
       "</table>\n",
       "</div>"
      ],
      "text/plain": [
       "                                                                                                                                          Text  \\\n",
       "0              .@wesley83 I have a 3G iPhone. After 3 hrs tweeting at #RISE_Austin, it was dead!  I need to upgrade. Plugin stations at #SXSW.   \n",
       "1  @jessedee Know about @fludapp ? Awesome iPad/iPhone app that you'll likely appreciate for its design. Also, they're giving free Ts at #SXSW   \n",
       "2                                                              @swonderlin Can not wait for #iPad 2 also. They should sale them down at #SXSW.   \n",
       "3                                                           @sxsw I hope this year's festival isn't as crashy as this year's iPhone app. #sxsw   \n",
       "4          @sxtxstate great stuff on Fri #SXSW: Marissa Mayer (Google), Tim O'Reilly (tech books/conferences) &amp; Matt Mullenweg (Wordpress)   \n",
       "\n",
       "                                                                                                    cleaned_text  \n",
       "0                    i have a g iphone after  hrs tweeting at  it was dead  i need to upgrade plugin stations at  \n",
       "1  know about   awesome ipadiphone app that youll likely appreciate for its design also theyre giving free ts at  \n",
       "2                                                          can not wait for   also they should sale them down at  \n",
       "3                                             i hope this years festival isnt as crashy as this years iphone app  \n",
       "4        great stuff on fri  marissa mayer google tim oreilly tech booksconferences amp matt mullenweg wordpress  "
      ]
     },
     "execution_count": 143,
     "metadata": {},
     "output_type": "execute_result"
    }
   ],
   "source": [
    "import re\n",
    "\n",
    "# Function to clean Text Column\n",
    "def clean_text(text):\n",
    "    text = re.sub(r\"http\\S+\", \"\", text)  # Remove URLs\n",
    "    text = re.sub(r\"@\\w+\", \"\", text)  # Remove mentions\n",
    "    text = re.sub(r\"#\\w+\", \"\", text)  # Remove hashtags (optional)\n",
    "    text = re.sub(r\"[^a-zA-Z\\s]\", \"\", text)  # Remove special characters and numbers\n",
    "    text = text.lower()  # Convert to lowercase\n",
    "    text = text.strip()  # Remove leading/trailing spaces\n",
    "    return text\n",
    "\n",
    "# Applying the cleaning function to the 'Text' column\n",
    "data_cleaned['cleaned_text'] = data_cleaned['Text'].apply(clean_text)\n",
    "data_cleaned[['Text', 'cleaned_text']].head()"
   ]
  },
  {
   "cell_type": "markdown",
   "id": "c18ed6d6-c820-4ba1-8641-532de48d0f1c",
   "metadata": {},
   "source": [
    "## Cleaning the Emotion Column"
   ]
  },
  {
   "cell_type": "code",
   "execution_count": 150,
   "id": "470d402a-07e5-4e0c-829a-a58e8be8a448",
   "metadata": {},
   "outputs": [
    {
     "data": {
      "text/plain": [
       "Emotion\n",
       "Neutral     5376\n",
       "Positive    2970\n",
       "Negative     569\n",
       "Name: count, dtype: int64"
      ]
     },
     "execution_count": 150,
     "metadata": {},
     "output_type": "execute_result"
    }
   ],
   "source": [
    "# Checking the occurence of unique values\n",
    "data_cleaned[\"Emotion\"].value_counts()"
   ]
  },
  {
   "cell_type": "code",
   "execution_count": 149,
   "id": "2c38fdde-1607-42be-a684-c2b8b3e64f42",
   "metadata": {},
   "outputs": [
    {
     "data": {
      "text/plain": [
       "Emotion\n",
       "Neutral     5376\n",
       "Positive    2970\n",
       "Negative     569\n",
       "Name: count, dtype: int64"
      ]
     },
     "execution_count": 149,
     "metadata": {},
     "output_type": "execute_result"
    }
   ],
   "source": [
    "data_cleaned[\"Emotion\"] = data_cleaned[\"Emotion\"].replace({\n",
    "    \"No emotion toward brand or product\": \"Neutral\",\n",
    "    \"Positive emotion\": \"Positive\",\n",
    "    \"Negative emotion\": \"Negative\"\n",
    "})\n",
    "\n",
    "data_cleaned[\"Emotion\"].value_counts()"
   ]
  },
  {
   "cell_type": "code",
   "execution_count": 146,
   "id": "13e3ec24-bf66-4a8d-8ce5-83a8aab4848e",
   "metadata": {},
   "outputs": [
    {
     "name": "stdout",
     "output_type": "stream",
     "text": [
      "90                                                        thanks to  for publishing the news of  new medical apps at the  conf blog link\n",
      "102                                  quotapple has opened a popup store in austin so the nerds in town for  can get their new ipads link\n",
      "237                             just what america needs rt  google to launch major new social network called circles possibly today link\n",
      "341                                                               the queue at the apple store in austin is four blocks long crazy stuff\n",
      "368                                       hope its better than wave rt  buzz is googles previewing a social networking platform at  link\n",
      "                                                                      ...                                                               \n",
      "9020    its funny watching a room full of people hold their ipad in the air to take a photo like a room full of tablets staring you down\n",
      "9032                                                                                             yeah we have   google has nothing on us\n",
      "9037                                                                    yes the google presentation was not exactly what i was expecting\n",
      "9058                   quotdo you know what apple is really good at making you feel bad about your xmas presentquot  seth meyers on ipad\n",
      "9066          how much you want to bet apple is disproportionately stocking the  popup store with ipad  the influencerhipsters thank you\n",
      "Name: cleaned_text, Length: 156, dtype: object\n"
     ]
    }
   ],
   "source": [
    "# Setting display options to show the full text\n",
    "pd.set_option('display.max_colwidth', None)  \n",
    "\n",
    "# Displaying the tweets where Emotion is \"I can't tell\"\n",
    "cant_tell_tweets = data_cleaned[data_cleaned[\"Emotion\"] == \"I can't tell\"][\"cleaned_text\"]\n",
    "print(cant_tell_tweets)"
   ]
  },
  {
   "cell_type": "code",
   "execution_count": 147,
   "id": "18a2da6c-1e76-49fa-a169-595c56a58021",
   "metadata": {},
   "outputs": [],
   "source": [
    "# Drop rows where the Emotion is \"I can't tell\"\n",
    "data_cleaned = data_cleaned[data_cleaned[\"Emotion\"] != \"I can't tell\"]"
   ]
  },
  {
   "cell_type": "markdown",
   "id": "023a2122-4639-4d13-a80b-ef3c5689b15c",
   "metadata": {},
   "source": [
    "On investigating the text with the cant tell emotion we decided to drop the rows because there was no clear sentiment information, as some of the texts seemed sarcastic making them less useful for accurate analysis or modeling."
   ]
  },
  {
   "cell_type": "markdown",
   "id": "7689abc6",
   "metadata": {},
   "source": [
    "## 2.3. Sentiment Class Distribution Visualization"
   ]
  },
  {
   "cell_type": "markdown",
   "id": "0edc26ca",
   "metadata": {},
   "source": [
    "In this step, we will visualize the sentiment class distribution to better understand the balance between different sentiment categories in the dataset. We will use a bar chart to display the count of each sentiment label: `positive`, `negative`, and `neutral`.\n",
    "\n",
    "The bar chart will help us assess the overall distribution and check for any significant class imbalance, which may affect our modeling process later."
   ]
  },
  {
   "cell_type": "code",
   "execution_count": 148,
   "id": "80f0f608",
   "metadata": {},
   "outputs": [
    {
     "data": {
      "image/png": "[encoded data removed]",
      "text/plain": [
       "<Figure size 800x600 with 1 Axes>"
      ]
     },
     "metadata": {},
     "output_type": "display_data"
    }
   ],
   "source": [
    "# Setting plot size and style\n",
    "plt.figure(figsize=(8, 6))\n",
    "\n",
    "# Plotting sentiment distribution using Seaborn's countplot\n",
    "sns.countplot(x='Emotion', \n",
    "              data= data_cleaned, \n",
    "              order= data_cleaned['Emotion'].value_counts().index)\n",
    "\n",
    "# Adding title and labels\n",
    "plt.title('Sentiment Distribution', fontsize=16)\n",
    "plt.xlabel('Sentiment', fontsize=12)\n",
    "plt.ylabel('Count', fontsize=12)\n",
    "\n",
    "# Rotating x-axis labels for better readability\n",
    "plt.xticks(rotation=45)\n",
    "\n",
    "# Displaying the plot\n",
    "plt.show()"
   ]
  },
  {
   "cell_type": "markdown",
   "id": "08e8bce9",
   "metadata": {},
   "source": [
    "The sentiment distribution graph clearly shows that the dataset is imbalanced, with the majority of tweets labeled as `Neutral`, followed by `Positive emotion,` while `Negative emotion` labels has significantly fewer instances.\n",
    "\n",
    "This imbalance is something we'll need to address during the modeling phase, potentially through techniques like resampling or adjusting class weights."
   ]
  },
  {
   "cell_type": "markdown",
   "id": "345fa294",
   "metadata": {},
   "source": [
    "# 3. Data Preprocessing for NLP"
   ]
  },
  {
   "cell_type": "markdown",
   "id": "003309f9",
   "metadata": {},
   "source": [
    "## 3.1. Tokenization and Normalization"
   ]
  },
  {
   "cell_type": "markdown",
   "id": "5bda2558",
   "metadata": {},
   "source": [
    "## 3.2. Stopwords Removal"
   ]
  },
  {
   "cell_type": "markdown",
   "id": "27d3722a",
   "metadata": {},
   "source": [
    "## 3.3. Stemming and Lemmatization"
   ]
  },
  {
   "cell_type": "markdown",
   "id": "482ef882",
   "metadata": {},
   "source": [
    "## 3.4. Vectorization"
   ]
  },
  {
   "cell_type": "markdown",
   "id": "f1f564de",
   "metadata": {},
   "source": [
    "## 3.5. Class Imbalance Handling (Optional)"
   ]
  },
  {
   "cell_type": "markdown",
   "id": "bd5e1408",
   "metadata": {},
   "source": [
    "# 4. Modeling"
   ]
  },
  {
   "cell_type": "markdown",
   "id": "34630691",
   "metadata": {},
   "source": [
    "## 4.1. Model 1: Binary Classification (Positive vs. Negative)"
   ]
  },
  {
   "cell_type": "markdown",
   "id": "267cf8e7",
   "metadata": {},
   "source": [
    "### 4.1.1. Model Selection"
   ]
  },
  {
   "cell_type": "markdown",
   "id": "0a05f0ff",
   "metadata": {},
   "source": [
    "### 4.1.2. Model Training"
   ]
  },
  {
   "cell_type": "markdown",
   "id": "c35de2b7",
   "metadata": {},
   "source": [
    "### 4.1.3. Model Evaluation"
   ]
  },
  {
   "cell_type": "markdown",
   "id": "e7bc9d6a",
   "metadata": {},
   "source": [
    "## 4.2. Model 2: Multiclass Classification (Positive, Negative, Neutral)"
   ]
  },
  {
   "cell_type": "markdown",
   "id": "15e893a2",
   "metadata": {},
   "source": [
    "### 4.2.1. Model Selection"
   ]
  },
  {
   "cell_type": "markdown",
   "id": "83bf946d",
   "metadata": {},
   "source": [
    "### 4.2.2. Hyperparameter Tuning"
   ]
  },
  {
   "cell_type": "markdown",
   "id": "b1a5f7b7",
   "metadata": {},
   "source": [
    "### 4.2.3. Model Evaluation"
   ]
  },
  {
   "cell_type": "markdown",
   "id": "5b3979bf",
   "metadata": {},
   "source": [
    "## 4.3. Advanced Models"
   ]
  },
  {
   "cell_type": "markdown",
   "id": "0be6a8a8",
   "metadata": {},
   "source": [
    "### 4.3.1. Experiment with Word2Vec or GloVe embeddings"
   ]
  },
  {
   "cell_type": "markdown",
   "id": "0b6baa4d",
   "metadata": {},
   "source": [
    "### 4.3.2. Use BERT for Sentiment Classification"
   ]
  },
  {
   "cell_type": "markdown",
   "id": "7f1aaee6",
   "metadata": {},
   "source": [
    "### 4.3.3. Model Evaluation: (comparison with the simpler models above)"
   ]
  },
  {
   "cell_type": "markdown",
   "id": "0407b606",
   "metadata": {},
   "source": [
    "# 5. Model Explainability"
   ]
  },
  {
   "cell_type": "markdown",
   "id": "4dcff21c",
   "metadata": {},
   "source": [
    "## 5.1. SHAP or LIME Interpretation"
   ]
  },
  {
   "cell_type": "markdown",
   "id": "9d7215d0",
   "metadata": {},
   "source": [
    "Use SHAP or LIME to explain which features (words or n-grams) contributed most to model decisions.\n",
    "\n",
    "- *Visualize and interpret feature importance for each sentiment class.*"
   ]
  },
  {
   "cell_type": "markdown",
   "id": "defb1491",
   "metadata": {},
   "source": [
    "# 6. Validation Strategy"
   ]
  },
  {
   "cell_type": "markdown",
   "id": "8fd05ed7",
   "metadata": {},
   "source": [
    "## 6.1. Cross-Validation"
   ]
  },
  {
   "cell_type": "markdown",
   "id": "2348ac29",
   "metadata": {},
   "source": [
    "## 6.2. Final Model Selection"
   ]
  },
  {
   "cell_type": "markdown",
   "id": "2e15e3ca",
   "metadata": {},
   "source": [
    "# 7. Conclusion"
   ]
  },
  {
   "cell_type": "markdown",
   "id": "25d9312b",
   "metadata": {},
   "source": [
    "## 7.1. Business Insights"
   ]
  },
  {
   "cell_type": "markdown",
   "id": "317066ac",
   "metadata": {},
   "source": [
    "## 7.2. Model Performance Overview"
   ]
  },
  {
   "cell_type": "markdown",
   "id": "7cc984f7",
   "metadata": {},
   "source": [
    "## 7.3. Future Work"
   ]
  },
  {
   "cell_type": "code",
   "execution_count": null,
   "id": "c9d01f54",
   "metadata": {},
   "outputs": [],
   "source": []
  }
 ],
 "metadata": {
  "kernelspec": {
   "display_name": "Python 3 (ipykernel)",
   "language": "python",
   "name": "python3"
  },
  "language_info": {
   "codemirror_mode": {
    "name": "ipython",
    "version": 3
   },
   "file_extension": ".py",
   "mimetype": "text/x-python",
   "name": "python",
   "nbconvert_exporter": "python",
   "pygments_lexer": "ipython3",
   "version": "3.11.9"
  }
 },
 "nbformat": 4,
 "nbformat_minor": 5
}
