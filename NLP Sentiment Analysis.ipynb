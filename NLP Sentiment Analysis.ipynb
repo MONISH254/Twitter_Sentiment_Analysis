{
 "cells": [
  {
   "cell_type": "markdown",
   "metadata": {},
   "source": [
    "# 1. Introduction\n",
    "\n",
    "## 1.1. Project Overview\n",
    "\n",
    "This project focuses on analyzing public sentiment from Tweets regarding Apple and Google products. The main goal is to build a Natural Language Processing (NLP) model that can classify the sentiment of a Tweet as positive, negative, or neutral based on its content.\n",
    "\n",
    "The data, sourced from [CrowdFlower](https://data.world/crowdflower/brands-and-product-emotions), contains over 9,000 Tweets labeled by human raters. By analyzing this data, the model will help Apple and Google better understand customer perceptions of their products, allowing them to make informed decisions for marketing, customer service, and product development.\n",
    "\n",
    "We will begin by preprocessing the Tweets, transforming them into a numerical format suitable for machine learning models, and training several classification algorithms to evaluate their performance.\n"
   ]
  },
  {
   "cell_type": "markdown",
   "metadata": {},
   "source": [
    "## 1.2. Business Problem & Stakeholder\n",
    "\n",
    "### Business Problem:\n",
    "Public perception of tech products can heavily influence a company's sales, customer satisfaction, and brand loyalty. For companies like Apple and Google, understanding how customers feel about their products can provide valuable insights into areas for improvement, marketing strategies, and product development. \n",
    "\n",
    "In this project, we aim to develop a model that automatically classifies the sentiment of Tweets regarding Apple and Google products as positive, negative, or neutral. This can help companies quickly gauge public sentiment at scale, providing actionable insights for decision-making.\n",
    "\n",
    "### Stakeholders:\n",
    "- **Apple and Google Product Teams:** Use sentiment data to improve products and address customer pain points.\n",
    "- **Marketing Departments:** Tailor campaigns to target sentiment-driven messaging.\n",
    "- **Customer Support Teams:** Identify negative feedback more quickly to address concerns.\n",
    "- **Executives/Decision Makers:** Gain a high-level view of public opinion, enabling better strategic planning.\n"
   ]
  },
  {
   "cell_type": "markdown",
   "metadata": {},
   "source": [
    "## 1.3. Dataset Description\n",
    "\n",
    "The dataset used in this project comes from [CrowdFlower](https://data.world/crowdflower/brands-and-product-emotions), containing over 9,000 Tweets. Each Tweet has been labeled by human raters with one of three sentiment categories: positive, negative, or neither. The dataset contains the following key columns:\n",
    "\n",
    "### Key Features of the Dataset:\n",
    "- **Text**: The actual content of the Tweet, which we will analyze for sentiment classification.\n",
    "- **Brand/Product**: The specific product or brand mentioned in the Tweet, such as `iPhone`, `Google`, or `iPad`.\n",
    "- **Emotion**: The sentiment label, representing whether the sentiment expressed in the Tweet is `Positive emotion`, `Negative emotion`, or neutral.\n",
    "\n",
    "### Target Variable:\n",
    "- **Emotion**: This will be the target variable, as it captures the sentiment associated with each Tweet.\n",
    "\n",
    "The dataset will be used to train and evaluate models that can predict the sentiment of unseen Tweets based on their text content.\n"
   ]
  },
  {
   "cell_type": "markdown",
   "metadata": {},
   "source": [
    "## 1.4. Objectives\n",
    "\n",
    "### Specific Objective\n",
    "- Develop a Natural Language Processing (NLP) model to accurately classify the sentiment of Tweets about Apple and Google products into three categories: positive, negative, and neutral."
   ]
  },
  {
   "cell_type": "markdown",
   "metadata": {},
   "source": [
    "### Additional Objectives\n",
    "\n",
    "1. **Data Preprocessing**: Clean and prepare the Tweet data for analysis, which includes handling missing values, normalizing text (removing URLs, special characters, etc.), and tokenization.\n",
    "\n",
    "2. **Exploratory Data Analysis (EDA)**: Conduct exploratory analysis to understand the distribution of sentiments in the dataset, identify any patterns, and visualize key aspects of the data.\n",
    "\n",
    "3. **Model Development**: Implement and train various classification models (e.g., Logistic Regression, Support Vector Machines, and Naive Bayes) to classify the sentiment of Tweets.\n",
    "\n",
    "4. **Model Evaluation**: Evaluate the performance of the models using appropriate metrics such as accuracy, precision, recall, and F1 score, especially focusing on multiclass classification metrics.\n",
    "\n",
    "5. **Iterative Improvement**: Based on initial results, refine the models by incorporating advanced techniques such as feature engineering, hyperparameter tuning, or using pre-trained embeddings like Word2Vec or BERT.\n",
    "\n",
    "6. **Conclusion and Recommendations**: Summarize the findings, discuss the model's effectiveness, and provide actionable recommendations for stakeholders based on the analysis.\n"
   ]
  },
  {
   "cell_type": "markdown",
   "metadata": {},
   "source": [
    "# 2. Data Understanding & Exploration"
   ]
  },
  {
   "cell_type": "markdown",
   "metadata": {},
   "source": [
    "## 2.1. Data Loading & Initial Exploration"
   ]
  },
  {
   "cell_type": "markdown",
   "metadata": {},
   "source": [
    "In this step, we will:\n",
    "\n",
    "1. Load the dataset.\n",
    "2. Display the first few rows to understand the structure.\n",
    "3. Check the data types of each column.\n",
    "4. Identify missing values and duplicates.\n",
    "5. Analyze the class distribution to check for potential imbalance.\n",
    "6. Perform basic descriptive statistics (e.g., distribution of Tweet lengths and word counts)."
   ]
  },
  {
   "cell_type": "code",
   "execution_count": 3,
   "metadata": {},
   "outputs": [],
   "source": [
    "# Importing the necessary libraries\n",
    "import pandas as pd \n",
    "import numpy as np\n",
    "import matplotlib.pyplot as plt\n",
    "import seaborn as sns\n",
    "\n",
    "# Display settings\n",
    "%matplotlib inline\n",
    "plt.style.use('ggplot')  # for nicer visualizations\n",
    "sns.set_palette(\"Set2\")  # Set Seaborn color palette"
   ]
  },
  {
   "cell_type": "code",
   "execution_count": 4,
   "metadata": {},
   "outputs": [],
   "source": [
    "# Load the dataset\n",
    "raw_data = pd.read_csv(\"judge-1377884607_tweet_product_company.csv\", encoding = \"latin1\")"
   ]
  },
  {
   "cell_type": "code",
   "execution_count": 5,
   "metadata": {},
   "outputs": [
    {
     "data": {
      "text/html": [
       "<div>\n",
       "<style scoped>\n",
       "    .dataframe tbody tr th:only-of-type {\n",
       "        vertical-align: middle;\n",
       "    }\n",
       "\n",
       "    .dataframe tbody tr th {\n",
       "        vertical-align: top;\n",
       "    }\n",
       "\n",
       "    .dataframe thead th {\n",
       "        text-align: right;\n",
       "    }\n",
       "</style>\n",
       "<table border=\"1\" class=\"dataframe\">\n",
       "  <thead>\n",
       "    <tr style=\"text-align: right;\">\n",
       "      <th></th>\n",
       "      <th>tweet_text</th>\n",
       "      <th>emotion_in_tweet_is_directed_at</th>\n",
       "      <th>is_there_an_emotion_directed_at_a_brand_or_product</th>\n",
       "    </tr>\n",
       "  </thead>\n",
       "  <tbody>\n",
       "    <tr>\n",
       "      <th>0</th>\n",
       "      <td>.@wesley83 I have a 3G iPhone. After 3 hrs twe...</td>\n",
       "      <td>iPhone</td>\n",
       "      <td>Negative emotion</td>\n",
       "    </tr>\n",
       "    <tr>\n",
       "      <th>1</th>\n",
       "      <td>@jessedee Know about @fludapp ? Awesome iPad/i...</td>\n",
       "      <td>iPad or iPhone App</td>\n",
       "      <td>Positive emotion</td>\n",
       "    </tr>\n",
       "    <tr>\n",
       "      <th>2</th>\n",
       "      <td>@swonderlin Can not wait for #iPad 2 also. The...</td>\n",
       "      <td>iPad</td>\n",
       "      <td>Positive emotion</td>\n",
       "    </tr>\n",
       "    <tr>\n",
       "      <th>3</th>\n",
       "      <td>@sxsw I hope this year's festival isn't as cra...</td>\n",
       "      <td>iPad or iPhone App</td>\n",
       "      <td>Negative emotion</td>\n",
       "    </tr>\n",
       "    <tr>\n",
       "      <th>4</th>\n",
       "      <td>@sxtxstate great stuff on Fri #SXSW: Marissa M...</td>\n",
       "      <td>Google</td>\n",
       "      <td>Positive emotion</td>\n",
       "    </tr>\n",
       "  </tbody>\n",
       "</table>\n",
       "</div>"
      ],
      "text/plain": [
       "                                          tweet_text  \\\n",
       "0  .@wesley83 I have a 3G iPhone. After 3 hrs twe...   \n",
       "1  @jessedee Know about @fludapp ? Awesome iPad/i...   \n",
       "2  @swonderlin Can not wait for #iPad 2 also. The...   \n",
       "3  @sxsw I hope this year's festival isn't as cra...   \n",
       "4  @sxtxstate great stuff on Fri #SXSW: Marissa M...   \n",
       "\n",
       "  emotion_in_tweet_is_directed_at  \\\n",
       "0                          iPhone   \n",
       "1              iPad or iPhone App   \n",
       "2                            iPad   \n",
       "3              iPad or iPhone App   \n",
       "4                          Google   \n",
       "\n",
       "  is_there_an_emotion_directed_at_a_brand_or_product  \n",
       "0                                   Negative emotion  \n",
       "1                                   Positive emotion  \n",
       "2                                   Positive emotion  \n",
       "3                                   Negative emotion  \n",
       "4                                   Positive emotion  "
      ]
     },
     "execution_count": 5,
     "metadata": {},
     "output_type": "execute_result"
    }
   ],
   "source": [
    "# Display the first 5 rows\n",
    "raw_data.head()"
   ]
  },
  {
   "cell_type": "markdown",
   "metadata": {},
   "source": [
    "The column names seem to be unnecessarily long, we'll rename them to improve readability."
   ]
  },
  {
   "cell_type": "code",
   "execution_count": 6,
   "metadata": {},
   "outputs": [
    {
     "data": {
      "text/html": [
       "<div>\n",
       "<style scoped>\n",
       "    .dataframe tbody tr th:only-of-type {\n",
       "        vertical-align: middle;\n",
       "    }\n",
       "\n",
       "    .dataframe tbody tr th {\n",
       "        vertical-align: top;\n",
       "    }\n",
       "\n",
       "    .dataframe thead th {\n",
       "        text-align: right;\n",
       "    }\n",
       "</style>\n",
       "<table border=\"1\" class=\"dataframe\">\n",
       "  <thead>\n",
       "    <tr style=\"text-align: right;\">\n",
       "      <th></th>\n",
       "      <th>Text</th>\n",
       "      <th>Brand/Product</th>\n",
       "      <th>Emotion</th>\n",
       "    </tr>\n",
       "  </thead>\n",
       "  <tbody>\n",
       "    <tr>\n",
       "      <th>0</th>\n",
       "      <td>.@wesley83 I have a 3G iPhone. After 3 hrs twe...</td>\n",
       "      <td>iPhone</td>\n",
       "      <td>Negative emotion</td>\n",
       "    </tr>\n",
       "    <tr>\n",
       "      <th>1</th>\n",
       "      <td>@jessedee Know about @fludapp ? Awesome iPad/i...</td>\n",
       "      <td>iPad or iPhone App</td>\n",
       "      <td>Positive emotion</td>\n",
       "    </tr>\n",
       "    <tr>\n",
       "      <th>2</th>\n",
       "      <td>@swonderlin Can not wait for #iPad 2 also. The...</td>\n",
       "      <td>iPad</td>\n",
       "      <td>Positive emotion</td>\n",
       "    </tr>\n",
       "    <tr>\n",
       "      <th>3</th>\n",
       "      <td>@sxsw I hope this year's festival isn't as cra...</td>\n",
       "      <td>iPad or iPhone App</td>\n",
       "      <td>Negative emotion</td>\n",
       "    </tr>\n",
       "    <tr>\n",
       "      <th>4</th>\n",
       "      <td>@sxtxstate great stuff on Fri #SXSW: Marissa M...</td>\n",
       "      <td>Google</td>\n",
       "      <td>Positive emotion</td>\n",
       "    </tr>\n",
       "  </tbody>\n",
       "</table>\n",
       "</div>"
      ],
      "text/plain": [
       "                                                Text       Brand/Product  \\\n",
       "0  .@wesley83 I have a 3G iPhone. After 3 hrs twe...              iPhone   \n",
       "1  @jessedee Know about @fludapp ? Awesome iPad/i...  iPad or iPhone App   \n",
       "2  @swonderlin Can not wait for #iPad 2 also. The...                iPad   \n",
       "3  @sxsw I hope this year's festival isn't as cra...  iPad or iPhone App   \n",
       "4  @sxtxstate great stuff on Fri #SXSW: Marissa M...              Google   \n",
       "\n",
       "            Emotion  \n",
       "0  Negative emotion  \n",
       "1  Positive emotion  \n",
       "2  Positive emotion  \n",
       "3  Negative emotion  \n",
       "4  Positive emotion  "
      ]
     },
     "execution_count": 6,
     "metadata": {},
     "output_type": "execute_result"
    }
   ],
   "source": [
    "# Renaming the columns\n",
    "raw_data.columns = [\"Text\", \"Brand/Product\", \"Emotion\"]\n",
    "raw_data.head()"
   ]
  },
  {
   "cell_type": "code",
   "execution_count": 7,
   "metadata": {},
   "outputs": [
    {
     "data": {
      "text/plain": [
       "(9093, 3)"
      ]
     },
     "execution_count": 7,
     "metadata": {},
     "output_type": "execute_result"
    }
   ],
   "source": [
    "# Checking the number of raws and columns\n",
    "raw_data.shape"
   ]
  },
  {
   "cell_type": "code",
   "execution_count": 8,
   "metadata": {},
   "outputs": [
    {
     "name": "stdout",
     "output_type": "stream",
     "text": [
      "<class 'pandas.core.frame.DataFrame'>\n",
      "RangeIndex: 9093 entries, 0 to 9092\n",
      "Data columns (total 3 columns):\n",
      " #   Column         Non-Null Count  Dtype \n",
      "---  ------         --------------  ----- \n",
      " 0   Text           9092 non-null   object\n",
      " 1   Brand/Product  3291 non-null   object\n",
      " 2   Emotion        9093 non-null   object\n",
      "dtypes: object(3)\n",
      "memory usage: 213.2+ KB\n"
     ]
    }
   ],
   "source": [
    "# Getting an overview of the data types\n",
    "raw_data.info()"
   ]
  },
  {
   "cell_type": "code",
   "execution_count": 9,
   "metadata": {},
   "outputs": [
    {
     "data": {
      "text/plain": [
       "Text                1\n",
       "Brand/Product    5802\n",
       "Emotion             0\n",
       "dtype: int64"
      ]
     },
     "execution_count": 9,
     "metadata": {},
     "output_type": "execute_result"
    }
   ],
   "source": [
    "# Checking for missing values\n",
    "raw_data.isnull().sum()"
   ]
  },
  {
   "cell_type": "code",
   "execution_count": 11,
   "metadata": {},
   "outputs": [
    {
     "name": "stdout",
     "output_type": "stream",
     "text": [
      "Number of duplicate rows based on the text column: 27\n"
     ]
    }
   ],
   "source": [
    "# Checking for duplicates based on the Text column\n",
    "duplicates = raw_data.duplicated(subset='Text').sum()\n",
    "print(f\"Number of duplicate rows based on the text column: {duplicates}\")"
   ]
  },
  {
   "cell_type": "code",
   "execution_count": 12,
   "metadata": {},
   "outputs": [
    {
     "name": "stdout",
     "output_type": "stream",
     "text": [
      "Tweet Length Statistics:\n",
      "count    9093.000000\n",
      "mean      104.950731\n",
      "std        27.208419\n",
      "min         0.000000\n",
      "25%        86.000000\n",
      "50%       109.000000\n",
      "75%       126.000000\n",
      "max       178.000000\n",
      "Name: tweet_length, dtype: float64\n",
      "Word Count Statistics:\n",
      "count    9093.000000\n",
      "mean       17.763444\n",
      "std         4.964105\n",
      "min         0.000000\n",
      "25%        14.000000\n",
      "50%        18.000000\n",
      "75%        21.000000\n",
      "max        33.000000\n",
      "Name: word_count, dtype: float64\n"
     ]
    }
   ],
   "source": [
    "# Handle missing values in 'Text' column\n",
    "raw_data['Text'] = raw_data['Text'].fillna('')  # Replace NaN with an empty string\n",
    "\n",
    "# Descriptive statistics for tweet length and word count\n",
    "raw_data['tweet_length'] = raw_data['Text'].apply(len)\n",
    "raw_data['word_count'] = raw_data['Text'].apply(lambda x: len(x.split()))\n",
    "\n",
    "print(\"Tweet Length Statistics:\")\n",
    "print(raw_data['tweet_length'].describe())\n",
    "\n",
    "print(\"Word Count Statistics:\")\n",
    "print(raw_data['word_count'].describe())"
   ]
  },
  {
   "cell_type": "markdown",
   "metadata": {},
   "source": [
    "- **Average tweet length** is *105 characters* with a max of *178 characters*.\n",
    "- **Average word count** is around *18 words*, with a maximum of *33 words*."
   ]
  },
  {
   "cell_type": "markdown",
   "metadata": {},
   "source": [
    "## 2.2. Data Cleaning"
   ]
  },
  {
   "cell_type": "markdown",
   "metadata": {},
   "source": [
    "In this section, we will:\n",
    "\n",
    "- Handle missing values in the `Brand/Product` column.\n",
    "- Remove any duplicate rows.\n",
    "- Clean the text data by removing URLs, mentions, and special characters."
   ]
  },
  {
   "cell_type": "markdown",
   "metadata": {},
   "source": [
    "### Handling Missing Values\n",
    "\n",
    "Since the `Brand/Product` column contains a large number of missing values, we can consider one of the following approaches:\n",
    "\n",
    "- Dropping the column entirely if it's not necessary for the analysis.\n",
    "- Imputing values, but this might be challenging as this is categorical text data.\n",
    "\n",
    "For now, since this column is not critical to sentiment analysis, we'll drop it."
   ]
  },
  {
   "cell_type": "code",
   "execution_count": 13,
   "metadata": {},
   "outputs": [
    {
     "data": {
      "text/html": [
       "<div>\n",
       "<style scoped>\n",
       "    .dataframe tbody tr th:only-of-type {\n",
       "        vertical-align: middle;\n",
       "    }\n",
       "\n",
       "    .dataframe tbody tr th {\n",
       "        vertical-align: top;\n",
       "    }\n",
       "\n",
       "    .dataframe thead th {\n",
       "        text-align: right;\n",
       "    }\n",
       "</style>\n",
       "<table border=\"1\" class=\"dataframe\">\n",
       "  <thead>\n",
       "    <tr style=\"text-align: right;\">\n",
       "      <th></th>\n",
       "      <th>Text</th>\n",
       "      <th>Emotion</th>\n",
       "      <th>tweet_length</th>\n",
       "      <th>word_count</th>\n",
       "    </tr>\n",
       "  </thead>\n",
       "  <tbody>\n",
       "    <tr>\n",
       "      <th>0</th>\n",
       "      <td>.@wesley83 I have a 3G iPhone. After 3 hrs twe...</td>\n",
       "      <td>Negative emotion</td>\n",
       "      <td>127</td>\n",
       "      <td>23</td>\n",
       "    </tr>\n",
       "    <tr>\n",
       "      <th>1</th>\n",
       "      <td>@jessedee Know about @fludapp ? Awesome iPad/i...</td>\n",
       "      <td>Positive emotion</td>\n",
       "      <td>139</td>\n",
       "      <td>22</td>\n",
       "    </tr>\n",
       "    <tr>\n",
       "      <th>2</th>\n",
       "      <td>@swonderlin Can not wait for #iPad 2 also. The...</td>\n",
       "      <td>Positive emotion</td>\n",
       "      <td>79</td>\n",
       "      <td>15</td>\n",
       "    </tr>\n",
       "    <tr>\n",
       "      <th>3</th>\n",
       "      <td>@sxsw I hope this year's festival isn't as cra...</td>\n",
       "      <td>Negative emotion</td>\n",
       "      <td>82</td>\n",
       "      <td>15</td>\n",
       "    </tr>\n",
       "    <tr>\n",
       "      <th>4</th>\n",
       "      <td>@sxtxstate great stuff on Fri #SXSW: Marissa M...</td>\n",
       "      <td>Positive emotion</td>\n",
       "      <td>131</td>\n",
       "      <td>17</td>\n",
       "    </tr>\n",
       "  </tbody>\n",
       "</table>\n",
       "</div>"
      ],
      "text/plain": [
       "                                                Text           Emotion  \\\n",
       "0  .@wesley83 I have a 3G iPhone. After 3 hrs twe...  Negative emotion   \n",
       "1  @jessedee Know about @fludapp ? Awesome iPad/i...  Positive emotion   \n",
       "2  @swonderlin Can not wait for #iPad 2 also. The...  Positive emotion   \n",
       "3  @sxsw I hope this year's festival isn't as cra...  Negative emotion   \n",
       "4  @sxtxstate great stuff on Fri #SXSW: Marissa M...  Positive emotion   \n",
       "\n",
       "   tweet_length  word_count  \n",
       "0           127          23  \n",
       "1           139          22  \n",
       "2            79          15  \n",
       "3            82          15  \n",
       "4           131          17  "
      ]
     },
     "execution_count": 13,
     "metadata": {},
     "output_type": "execute_result"
    }
   ],
   "source": [
    "# Dropping the 'Brand/Product' column due to many missing values\n",
    "data_cleaned = raw_data.drop(columns=['Brand/Product'])\n",
    "data_cleaned.head()"
   ]
  },
  {
   "cell_type": "markdown",
   "metadata": {},
   "source": [
    "### Handling Duplicates\n",
    "\n",
    "We'll remove the duplicate rows."
   ]
  },
  {
   "cell_type": "code",
   "execution_count": 14,
   "metadata": {},
   "outputs": [
    {
     "name": "stdout",
     "output_type": "stream",
     "text": [
      "Number of rows after removing duplicates: 9071\n"
     ]
    }
   ],
   "source": [
    "# Removing duplicate rows\n",
    "data_cleaned = data_cleaned.drop_duplicates()\n",
    "print(f\"Number of rows after removing duplicates: {data_cleaned.shape[0]}\")"
   ]
  },
  {
   "cell_type": "markdown",
   "metadata": {},
   "source": [
    "### Cleaning the Text Column\n",
    "\n",
    "To prepare the Text Column for modeling, we'll:\n",
    "\n",
    "- Remove URLs, mentions, and special characters.\n",
    "- Convert text to lowercase for uniformity."
   ]
  },
  {
   "cell_type": "code",
   "execution_count": 15,
   "metadata": {},
   "outputs": [
    {
     "data": {
      "text/html": [
       "<div>\n",
       "<style scoped>\n",
       "    .dataframe tbody tr th:only-of-type {\n",
       "        vertical-align: middle;\n",
       "    }\n",
       "\n",
       "    .dataframe tbody tr th {\n",
       "        vertical-align: top;\n",
       "    }\n",
       "\n",
       "    .dataframe thead th {\n",
       "        text-align: right;\n",
       "    }\n",
       "</style>\n",
       "<table border=\"1\" class=\"dataframe\">\n",
       "  <thead>\n",
       "    <tr style=\"text-align: right;\">\n",
       "      <th></th>\n",
       "      <th>Text</th>\n",
       "      <th>cleaned_text</th>\n",
       "    </tr>\n",
       "  </thead>\n",
       "  <tbody>\n",
       "    <tr>\n",
       "      <th>0</th>\n",
       "      <td>.@wesley83 I have a 3G iPhone. After 3 hrs twe...</td>\n",
       "      <td>i have a g iphone after  hrs tweeting at  it w...</td>\n",
       "    </tr>\n",
       "    <tr>\n",
       "      <th>1</th>\n",
       "      <td>@jessedee Know about @fludapp ? Awesome iPad/i...</td>\n",
       "      <td>know about   awesome ipadiphone app that youll...</td>\n",
       "    </tr>\n",
       "    <tr>\n",
       "      <th>2</th>\n",
       "      <td>@swonderlin Can not wait for #iPad 2 also. The...</td>\n",
       "      <td>can not wait for   also they should sale them ...</td>\n",
       "    </tr>\n",
       "    <tr>\n",
       "      <th>3</th>\n",
       "      <td>@sxsw I hope this year's festival isn't as cra...</td>\n",
       "      <td>i hope this years festival isnt as crashy as t...</td>\n",
       "    </tr>\n",
       "    <tr>\n",
       "      <th>4</th>\n",
       "      <td>@sxtxstate great stuff on Fri #SXSW: Marissa M...</td>\n",
       "      <td>great stuff on fri  marissa mayer google tim o...</td>\n",
       "    </tr>\n",
       "  </tbody>\n",
       "</table>\n",
       "</div>"
      ],
      "text/plain": [
       "                                                Text  \\\n",
       "0  .@wesley83 I have a 3G iPhone. After 3 hrs twe...   \n",
       "1  @jessedee Know about @fludapp ? Awesome iPad/i...   \n",
       "2  @swonderlin Can not wait for #iPad 2 also. The...   \n",
       "3  @sxsw I hope this year's festival isn't as cra...   \n",
       "4  @sxtxstate great stuff on Fri #SXSW: Marissa M...   \n",
       "\n",
       "                                        cleaned_text  \n",
       "0  i have a g iphone after  hrs tweeting at  it w...  \n",
       "1  know about   awesome ipadiphone app that youll...  \n",
       "2  can not wait for   also they should sale them ...  \n",
       "3  i hope this years festival isnt as crashy as t...  \n",
       "4  great stuff on fri  marissa mayer google tim o...  "
      ]
     },
     "execution_count": 15,
     "metadata": {},
     "output_type": "execute_result"
    }
   ],
   "source": [
    "import re\n",
    "\n",
    "# Function to clean Text Column\n",
    "def clean_text(text):\n",
    "    text = re.sub(r\"http\\S+\", \"\", text)  # Remove URLs\n",
    "    text = re.sub(r\"@\\w+\", \"\", text)  # Remove mentions\n",
    "    text = re.sub(r\"#\\w+\", \"\", text)  # Remove hashtags (optional)\n",
    "    text = re.sub(r\"[^a-zA-Z\\s]\", \"\", text)  # Remove special characters and numbers\n",
    "    text = text.lower()  # Convert to lowercase\n",
    "    text = text.strip()  # Remove leading/trailing spaces\n",
    "    return text\n",
    "\n",
    "# Applying the cleaning function to the 'Text' column\n",
    "data_cleaned['cleaned_text'] = data_cleaned['Text'].apply(clean_text)\n",
    "data_cleaned[['Text', 'cleaned_text']].head()"
   ]
  },
  {
   "cell_type": "markdown",
   "metadata": {},
   "source": [
    "## Cleaning the Emotion Column"
   ]
  },
  {
   "cell_type": "code",
   "execution_count": 16,
   "metadata": {},
   "outputs": [
    {
     "data": {
      "text/plain": [
       "No emotion toward brand or product    5376\n",
       "Positive emotion                      2970\n",
       "Negative emotion                       569\n",
       "I can't tell                           156\n",
       "Name: Emotion, dtype: int64"
      ]
     },
     "execution_count": 16,
     "metadata": {},
     "output_type": "execute_result"
    }
   ],
   "source": [
    "# Checking the occurence of unique values\n",
    "data_cleaned[\"Emotion\"].value_counts()"
   ]
  },
  {
   "cell_type": "code",
   "execution_count": 17,
   "metadata": {},
   "outputs": [
    {
     "data": {
      "text/plain": [
       "Neutral         5376\n",
       "Positive        2970\n",
       "Negative         569\n",
       "I can't tell     156\n",
       "Name: Emotion, dtype: int64"
      ]
     },
     "execution_count": 17,
     "metadata": {},
     "output_type": "execute_result"
    }
   ],
   "source": [
    "data_cleaned[\"Emotion\"] = data_cleaned[\"Emotion\"].replace({\n",
    "    \"No emotion toward brand or product\": \"Neutral\",\n",
    "    \"Positive emotion\": \"Positive\",\n",
    "    \"Negative emotion\": \"Negative\"\n",
    "})\n",
    "\n",
    "data_cleaned[\"Emotion\"].value_counts()"
   ]
  },
  {
   "cell_type": "code",
   "execution_count": 18,
   "metadata": {},
   "outputs": [
    {
     "name": "stdout",
     "output_type": "stream",
     "text": [
      "90                                                        thanks to  for publishing the news of  new medical apps at the  conf blog link\n",
      "102                                  quotapple has opened a popup store in austin so the nerds in town for  can get their new ipads link\n",
      "237                             just what america needs rt  google to launch major new social network called circles possibly today link\n",
      "341                                                               the queue at the apple store in austin is four blocks long crazy stuff\n",
      "368                                       hope its better than wave rt  buzz is googles previewing a social networking platform at  link\n",
      "                                                                      ...                                                               \n",
      "9020    its funny watching a room full of people hold their ipad in the air to take a photo like a room full of tablets staring you down\n",
      "9032                                                                                             yeah we have   google has nothing on us\n",
      "9037                                                                    yes the google presentation was not exactly what i was expecting\n",
      "9058                   quotdo you know what apple is really good at making you feel bad about your xmas presentquot  seth meyers on ipad\n",
      "9066          how much you want to bet apple is disproportionately stocking the  popup store with ipad  the influencerhipsters thank you\n",
      "Name: cleaned_text, Length: 156, dtype: object\n"
     ]
    }
   ],
   "source": [
    "# Setting display options to show the full text\n",
    "pd.set_option('display.max_colwidth', None)  \n",
    "\n",
    "# Displaying the tweets where Emotion is \"I can't tell\"\n",
    "cant_tell_tweets = data_cleaned[data_cleaned[\"Emotion\"] == \"I can't tell\"][\"cleaned_text\"]\n",
    "print(cant_tell_tweets)"
   ]
  },
  {
   "cell_type": "code",
   "execution_count": 19,
   "metadata": {},
   "outputs": [],
   "source": [
    "# Drop rows where the Emotion is \"I can't tell\"\n",
    "data_cleaned = data_cleaned[data_cleaned[\"Emotion\"] != \"I can't tell\"]"
   ]
  },
  {
   "cell_type": "markdown",
   "metadata": {},
   "source": [
    "On investigating the text with the cant tell emotion we decided to drop the rows because there was no clear sentiment information, as some of the texts seemed sarcastic making them less useful for accurate analysis or modeling."
   ]
  },
  {
   "cell_type": "markdown",
   "metadata": {},
   "source": [
    "## 2.3. Sentiment Class Distribution Visualization"
   ]
  },
  {
   "cell_type": "markdown",
   "metadata": {},
   "source": [
    "In this step, we will visualize the sentiment class distribution to better understand the balance between different sentiment categories in the dataset. We will use a bar chart to display the count of each sentiment label: `positive`, `negative`, and `neutral`.\n",
    "\n",
    "The bar chart will help us assess the overall distribution and check for any significant class imbalance, which may affect our modeling process later."
   ]
  },
  {
   "cell_type": "code",
   "execution_count": 20,
   "metadata": {},
   "outputs": [
    {
     "data": {
      "image/png": "[encoded data removed]",
      "text/plain": [
       "<Figure size 576x432 with 1 Axes>"
      ]
     },
     "metadata": {},
     "output_type": "display_data"
    }
   ],
   "source": [
    "# Setting plot size and style\n",
    "plt.figure(figsize=(8, 6))\n",
    "\n",
    "# Plotting sentiment distribution using Seaborn's countplot\n",
    "sns.countplot(x='Emotion', \n",
    "              data= data_cleaned, \n",
    "              order= data_cleaned['Emotion'].value_counts().index)\n",
    "\n",
    "# Adding title and labels\n",
    "plt.title('Sentiment Distribution', fontsize=16)\n",
    "plt.xlabel('Sentiment', fontsize=12)\n",
    "plt.ylabel('Count', fontsize=12)\n",
    "\n",
    "# Rotating x-axis labels for better readability\n",
    "plt.xticks(rotation=45)\n",
    "\n",
    "# Displaying the plot\n",
    "plt.show()"
   ]
  },
  {
   "cell_type": "markdown",
   "metadata": {},
   "source": [
    "The sentiment distribution graph clearly shows that the dataset is imbalanced, with the majority of tweets labeled as `Neutral`, followed by `Positive emotion,` while `Negative emotion` labels has significantly fewer instances.\n",
    "\n",
    "This imbalance is something we'll need to address during the modeling phase, potentially through techniques like resampling or adjusting class weights."
   ]
  },
  {
   "cell_type": "markdown",
   "metadata": {},
   "source": [
    "## 2.4. Further Visualizations"
   ]
  },
  {
   "cell_type": "markdown",
   "metadata": {},
   "source": [
    "We will now:\n",
    "\n",
    "- **Distribution of Tweet Lengths:** A histogram to show how the lengths of the tweets are distributed.\n",
    "- **Word Count Distribution:** A similar histogram for word count distribution.\n",
    "- **Correlation Between Tweet Length and Sentiment:** Boxplots to visualize how the length of the tweets varies with sentiment."
   ]
  },
  {
   "cell_type": "markdown",
   "metadata": {},
   "source": [
    "### 1. Distribution of Tweet Lengths\n",
    "This visualization will help us understand how the lengths of the tweets are distributed in the dataset."
   ]
  },
  {
   "cell_type": "code",
   "execution_count": 21,
   "metadata": {},
   "outputs": [
    {
     "data": {
      "image/png": "[encoded data removed]",
      "text/plain": [
       "<Figure size 576x432 with 1 Axes>"
      ]
     },
     "metadata": {},
     "output_type": "display_data"
    }
   ],
   "source": [
    "# Plotting distribution of tweet lengths\n",
    "plt.figure(figsize=(8, 6))\n",
    "sns.histplot(data_cleaned['tweet_length'], bins=30, kde=True, color='purple')\n",
    "plt.title('Distribution of Tweet Lengths', fontsize=16)\n",
    "plt.xlabel('Tweet Length', fontsize=12)\n",
    "plt.ylabel('Frequency', fontsize=12)\n",
    "plt.show()"
   ]
  },
  {
   "cell_type": "markdown",
   "metadata": {},
   "source": [
    "The histogram above illustrates the distribution of tweet lengths within the dataset. Key observations include:\n",
    "\n",
    "- The distribution appears to be roughly normal, with a peak around 100-125 characters.\n",
    "- Most tweets fall within the range of 75 to 140 characters, suggesting that the average tweet is relatively concise, likely conforming to Twitter's character limits.\n",
    "- There are fewer tweets on both extremes (very short and very long), with a noticeable decline in frequency as the tweet length approaches the maximum of 178 characters.\n",
    "- The data shows some variability, but the majority of tweets are clustered around the mean, indicating a consistent tweeting style among users."
   ]
  },
  {
   "cell_type": "markdown",
   "metadata": {},
   "source": [
    "### 2. Distribution of Word Count in Tweets\n",
    "We will now visualize the word count in tweets, which helps us understand how concise or detailed the tweets are."
   ]
  },
  {
   "cell_type": "code",
   "execution_count": 22,
   "metadata": {},
   "outputs": [
    {
     "data": {
      "image/png": "[encoded data removed]",
      "text/plain": [
       "<Figure size 576x432 with 1 Axes>"
      ]
     },
     "metadata": {},
     "output_type": "display_data"
    }
   ],
   "source": [
    "# Plotting distribution of word count\n",
    "plt.figure(figsize=(8, 6))\n",
    "sns.histplot(data_cleaned['word_count'], bins=30, kde=True, color='blue')\n",
    "plt.title('Distribution of Word Count in Tweets', fontsize=16)\n",
    "plt.xlabel('Word Count', fontsize=12)\n",
    "plt.ylabel('Frequency', fontsize=12)\n",
    "plt.show()"
   ]
  },
  {
   "cell_type": "markdown",
   "metadata": {},
   "source": [
    "The histogram shows that most tweets contain between 10 and 25 words, with a peak around 20 words. Shorter tweets (around 10 words) are also common, while very short or long tweets are rare. The distribution approximates a normal curve centered at 20 words."
   ]
  },
  {
   "cell_type": "markdown",
   "metadata": {},
   "source": [
    "### 3. Correlation Between Tweet Length and Sentiment\n",
    "To understand if tweet length has any relation to sentiment, we will visualize the correlation using boxplots."
   ]
  },
  {
   "cell_type": "code",
   "execution_count": 23,
   "metadata": {},
   "outputs": [
    {
     "data": {
      "image/png": "[encoded data removed]",
      "text/plain": [
       "<Figure size 720x432 with 1 Axes>"
      ]
     },
     "metadata": {},
     "output_type": "display_data"
    }
   ],
   "source": [
    "# Boxplot of tweet length by sentiment\n",
    "plt.figure(figsize=(10, 6))\n",
    "sns.boxplot(x='Emotion', y='tweet_length', data=data_cleaned)\n",
    "plt.title('Tweet Length vs. Sentiment', fontsize=16)\n",
    "plt.xlabel('Sentiment', fontsize=12)\n",
    "plt.ylabel('Tweet Length', fontsize=12)\n",
    "plt.show()"
   ]
  },
  {
   "cell_type": "code",
   "execution_count": null,
   "metadata": {},
   "outputs": [],
   "source": []
  },
  {
   "cell_type": "markdown",
   "metadata": {},
   "source": [
    "# 3. Data Preprocessing for NLP"
   ]
  },
  {
   "cell_type": "markdown",
   "metadata": {},
   "source": [
    "## 3.1. Tokenization and Normalization"
   ]
  },
  {
   "cell_type": "markdown",
   "metadata": {},
   "source": [
    "The goal of this step is to prepare the text for NLP tasks by transforming it into a consistent and analyzable format. We achieve this by:\n",
    "\n",
    "1. Tokenization: Splitting the text into individual tokens (words).\n",
    "2. Normalization: Converting text to lowercase and removing punctuation, numbers, and special characters.\n",
    "\n",
    "After applying these steps, the text will be standardized, allowing for better processing in subsequent steps like vectorization."
   ]
  },
  {
   "cell_type": "code",
   "execution_count": 24,
   "metadata": {},
   "outputs": [
    {
     "name": "stderr",
     "output_type": "stream",
     "text": [
      "[nltk_data] Downloading package punkt to\n",
      "[nltk_data]     C:\\Users\\USER\\AppData\\Roaming\\nltk_data...\n",
      "[nltk_data]   Package punkt is already up-to-date!\n"
     ]
    },
    {
     "data": {
      "text/html": [
       "<div>\n",
       "<style scoped>\n",
       "    .dataframe tbody tr th:only-of-type {\n",
       "        vertical-align: middle;\n",
       "    }\n",
       "\n",
       "    .dataframe tbody tr th {\n",
       "        vertical-align: top;\n",
       "    }\n",
       "\n",
       "    .dataframe thead th {\n",
       "        text-align: right;\n",
       "    }\n",
       "</style>\n",
       "<table border=\"1\" class=\"dataframe\">\n",
       "  <thead>\n",
       "    <tr style=\"text-align: right;\">\n",
       "      <th></th>\n",
       "      <th>cleaned_text</th>\n",
       "      <th>tokens</th>\n",
       "    </tr>\n",
       "  </thead>\n",
       "  <tbody>\n",
       "    <tr>\n",
       "      <th>0</th>\n",
       "      <td>i have a g iphone after  hrs tweeting at  it was dead  i need to upgrade plugin stations at</td>\n",
       "      <td>[i, have, a, g, iphone, after, hrs, tweeting, at, it, was, dead, i, need, to, upgrade, plugin, stations, at]</td>\n",
       "    </tr>\n",
       "    <tr>\n",
       "      <th>1</th>\n",
       "      <td>know about   awesome ipadiphone app that youll likely appreciate for its design also theyre giving free ts at</td>\n",
       "      <td>[know, about, awesome, ipadiphone, app, that, youll, likely, appreciate, for, its, design, also, theyre, giving, free, ts, at]</td>\n",
       "    </tr>\n",
       "    <tr>\n",
       "      <th>2</th>\n",
       "      <td>can not wait for   also they should sale them down at</td>\n",
       "      <td>[can, not, wait, for, also, they, should, sale, them, down, at]</td>\n",
       "    </tr>\n",
       "    <tr>\n",
       "      <th>3</th>\n",
       "      <td>i hope this years festival isnt as crashy as this years iphone app</td>\n",
       "      <td>[i, hope, this, years, festival, isnt, as, crashy, as, this, years, iphone, app]</td>\n",
       "    </tr>\n",
       "    <tr>\n",
       "      <th>4</th>\n",
       "      <td>great stuff on fri  marissa mayer google tim oreilly tech booksconferences amp matt mullenweg wordpress</td>\n",
       "      <td>[great, stuff, on, fri, marissa, mayer, google, tim, oreilly, tech, booksconferences, amp, matt, mullenweg, wordpress]</td>\n",
       "    </tr>\n",
       "  </tbody>\n",
       "</table>\n",
       "</div>"
      ],
      "text/plain": [
       "                                                                                                    cleaned_text  \\\n",
       "0                    i have a g iphone after  hrs tweeting at  it was dead  i need to upgrade plugin stations at   \n",
       "1  know about   awesome ipadiphone app that youll likely appreciate for its design also theyre giving free ts at   \n",
       "2                                                          can not wait for   also they should sale them down at   \n",
       "3                                             i hope this years festival isnt as crashy as this years iphone app   \n",
       "4        great stuff on fri  marissa mayer google tim oreilly tech booksconferences amp matt mullenweg wordpress   \n",
       "\n",
       "                                                                                                                           tokens  \n",
       "0                    [i, have, a, g, iphone, after, hrs, tweeting, at, it, was, dead, i, need, to, upgrade, plugin, stations, at]  \n",
       "1  [know, about, awesome, ipadiphone, app, that, youll, likely, appreciate, for, its, design, also, theyre, giving, free, ts, at]  \n",
       "2                                                                 [can, not, wait, for, also, they, should, sale, them, down, at]  \n",
       "3                                                [i, hope, this, years, festival, isnt, as, crashy, as, this, years, iphone, app]  \n",
       "4          [great, stuff, on, fri, marissa, mayer, google, tim, oreilly, tech, booksconferences, amp, matt, mullenweg, wordpress]  "
      ]
     },
     "execution_count": 24,
     "metadata": {},
     "output_type": "execute_result"
    }
   ],
   "source": [
    "import re\n",
    "import nltk\n",
    "nltk.download('punkt')  # Ensure you have the required tokenizer\n",
    "\n",
    "# Tokenization and Normalization Function\n",
    "def tokenize_and_normalize(text):\n",
    "    # Convert text to lowercase\n",
    "    text = text.lower()\n",
    "    \n",
    "    # Remove punctuation, numbers, and special characters\n",
    "    text = re.sub(r'[^a-z\\s]', '', text)\n",
    "    \n",
    "    # Tokenize the text\n",
    "    tokens = nltk.word_tokenize(text)\n",
    "    \n",
    "    return tokens\n",
    "\n",
    "# Apply the function to the cleaned text column\n",
    "data_cleaned['tokens'] = data_cleaned['cleaned_text'].apply(tokenize_and_normalize)\n",
    "\n",
    "# Display the tokenized text\n",
    "data_cleaned[['cleaned_text', 'tokens']].head()"
   ]
  },
  {
   "cell_type": "markdown",
   "metadata": {},
   "source": [
    "## 3.2. Stopwords Removal"
   ]
  },
  {
   "cell_type": "markdown",
   "metadata": {},
   "source": [
    "In this step, we will remove common words (stopwords) that don't carry much meaningful information for text analysis. Stopwords are often words like `\"the\", \"is\", \"in\",` etc., which are frequently used but don’t contribute much to the overall meaning of a text.\n",
    "\n",
    "**Goal:** Improve the quality of our text data by eliminating such words, leaving only the key terms that carry the most important meaning."
   ]
  },
  {
   "cell_type": "code",
   "execution_count": 26,
   "metadata": {},
   "outputs": [
    {
     "name": "stderr",
     "output_type": "stream",
     "text": [
      "[nltk_data] Downloading package stopwords to\n",
      "[nltk_data]     C:\\Users\\USER\\AppData\\Roaming\\nltk_data...\n",
      "[nltk_data]   Package stopwords is already up-to-date!\n"
     ]
    },
    {
     "data": {
      "text/html": [
       "<div>\n",
       "<style scoped>\n",
       "    .dataframe tbody tr th:only-of-type {\n",
       "        vertical-align: middle;\n",
       "    }\n",
       "\n",
       "    .dataframe tbody tr th {\n",
       "        vertical-align: top;\n",
       "    }\n",
       "\n",
       "    .dataframe thead th {\n",
       "        text-align: right;\n",
       "    }\n",
       "</style>\n",
       "<table border=\"1\" class=\"dataframe\">\n",
       "  <thead>\n",
       "    <tr style=\"text-align: right;\">\n",
       "      <th></th>\n",
       "      <th>tokens</th>\n",
       "      <th>tokens_no_stopwords</th>\n",
       "    </tr>\n",
       "  </thead>\n",
       "  <tbody>\n",
       "    <tr>\n",
       "      <th>0</th>\n",
       "      <td>[i, have, a, g, iphone, after, hrs, tweeting, at, it, was, dead, i, need, to, upgrade, plugin, stations, at]</td>\n",
       "      <td>[g, iphone, hrs, tweeting, dead, need, upgrade, plugin, stations]</td>\n",
       "    </tr>\n",
       "    <tr>\n",
       "      <th>1</th>\n",
       "      <td>[know, about, awesome, ipadiphone, app, that, youll, likely, appreciate, for, its, design, also, theyre, giving, free, ts, at]</td>\n",
       "      <td>[know, awesome, ipadiphone, app, youll, likely, appreciate, design, also, theyre, giving, free, ts]</td>\n",
       "    </tr>\n",
       "    <tr>\n",
       "      <th>2</th>\n",
       "      <td>[can, not, wait, for, also, they, should, sale, them, down, at]</td>\n",
       "      <td>[wait, also, sale]</td>\n",
       "    </tr>\n",
       "    <tr>\n",
       "      <th>3</th>\n",
       "      <td>[i, hope, this, years, festival, isnt, as, crashy, as, this, years, iphone, app]</td>\n",
       "      <td>[hope, years, festival, isnt, crashy, years, iphone, app]</td>\n",
       "    </tr>\n",
       "    <tr>\n",
       "      <th>4</th>\n",
       "      <td>[great, stuff, on, fri, marissa, mayer, google, tim, oreilly, tech, booksconferences, amp, matt, mullenweg, wordpress]</td>\n",
       "      <td>[great, stuff, fri, marissa, mayer, google, tim, oreilly, tech, booksconferences, amp, matt, mullenweg, wordpress]</td>\n",
       "    </tr>\n",
       "  </tbody>\n",
       "</table>\n",
       "</div>"
      ],
      "text/plain": [
       "                                                                                                                           tokens  \\\n",
       "0                    [i, have, a, g, iphone, after, hrs, tweeting, at, it, was, dead, i, need, to, upgrade, plugin, stations, at]   \n",
       "1  [know, about, awesome, ipadiphone, app, that, youll, likely, appreciate, for, its, design, also, theyre, giving, free, ts, at]   \n",
       "2                                                                 [can, not, wait, for, also, they, should, sale, them, down, at]   \n",
       "3                                                [i, hope, this, years, festival, isnt, as, crashy, as, this, years, iphone, app]   \n",
       "4          [great, stuff, on, fri, marissa, mayer, google, tim, oreilly, tech, booksconferences, amp, matt, mullenweg, wordpress]   \n",
       "\n",
       "                                                                                                  tokens_no_stopwords  \n",
       "0                                                   [g, iphone, hrs, tweeting, dead, need, upgrade, plugin, stations]  \n",
       "1                 [know, awesome, ipadiphone, app, youll, likely, appreciate, design, also, theyre, giving, free, ts]  \n",
       "2                                                                                                  [wait, also, sale]  \n",
       "3                                                           [hope, years, festival, isnt, crashy, years, iphone, app]  \n",
       "4  [great, stuff, fri, marissa, mayer, google, tim, oreilly, tech, booksconferences, amp, matt, mullenweg, wordpress]  "
      ]
     },
     "execution_count": 26,
     "metadata": {},
     "output_type": "execute_result"
    }
   ],
   "source": [
    "from nltk.corpus import stopwords\n",
    "\n",
    "# Load the set of English stopwords from NLTK\n",
    "nltk.download('stopwords')\n",
    "stop_words = set(stopwords.words('english'))\n",
    "\n",
    "# Function to remove stopwords from tokenized text\n",
    "def remove_stopwords(tokens):\n",
    "    return [token for token in tokens if token.lower() not in stop_words]\n",
    "\n",
    "# Apply the function to the tokens column\n",
    "data_cleaned['tokens_no_stopwords'] = data_cleaned['tokens'].apply(remove_stopwords)\n",
    "\n",
    "# Display the first few rows to check the result\n",
    "data_cleaned[['tokens', 'tokens_no_stopwords']].head()"
   ]
  },
  {
   "cell_type": "markdown",
   "metadata": {},
   "source": [
    "## 3.3. Stemming and Lemmatization"
   ]
  },
  {
   "cell_type": "markdown",
   "metadata": {},
   "source": [
    "In this step, we will apply stemming or lemmatization to further normalize the tokens.\n",
    "\n",
    "Stemming reduces words to their root form by removing suffixes (e.g., \"running\" becomes \"run\"). It's a more aggressive approach but might produce non-existent words.\n",
    "Lemmatization is more linguistically accurate, converting words to their base or dictionary form (e.g., \"running\" becomes \"run\", and \"better\" becomes \"good\"). This method ensures the resulting words are real words.\n",
    "\n",
    "For this project, we will use lemmatization as it tends to preserve the meaning better than stemming."
   ]
  },
  {
   "cell_type": "code",
   "execution_count": 27,
   "metadata": {},
   "outputs": [
    {
     "name": "stderr",
     "output_type": "stream",
     "text": [
      "[nltk_data] Downloading package averaged_perceptron_tagger to\n",
      "[nltk_data]     C:\\Users\\USER\\AppData\\Roaming\\nltk_data...\n",
      "[nltk_data]   Package averaged_perceptron_tagger is already up-to-\n",
      "[nltk_data]       date!\n",
      "[nltk_data] Downloading package wordnet to\n",
      "[nltk_data]     C:\\Users\\USER\\AppData\\Roaming\\nltk_data...\n",
      "[nltk_data]   Package wordnet is already up-to-date!\n",
      "[nltk_data] Downloading package omw-1.4 to\n",
      "[nltk_data]     C:\\Users\\USER\\AppData\\Roaming\\nltk_data...\n",
      "[nltk_data]   Package omw-1.4 is already up-to-date!\n"
     ]
    },
    {
     "data": {
      "text/html": [
       "<div>\n",
       "<style scoped>\n",
       "    .dataframe tbody tr th:only-of-type {\n",
       "        vertical-align: middle;\n",
       "    }\n",
       "\n",
       "    .dataframe tbody tr th {\n",
       "        vertical-align: top;\n",
       "    }\n",
       "\n",
       "    .dataframe thead th {\n",
       "        text-align: right;\n",
       "    }\n",
       "</style>\n",
       "<table border=\"1\" class=\"dataframe\">\n",
       "  <thead>\n",
       "    <tr style=\"text-align: right;\">\n",
       "      <th></th>\n",
       "      <th>tokens_no_stopwords</th>\n",
       "      <th>tokens_lemmatized</th>\n",
       "    </tr>\n",
       "  </thead>\n",
       "  <tbody>\n",
       "    <tr>\n",
       "      <th>0</th>\n",
       "      <td>[g, iphone, hrs, tweeting, dead, need, upgrade, plugin, stations]</td>\n",
       "      <td>[g, iphone, hr, tweet, dead, need, upgrade, plugin, station]</td>\n",
       "    </tr>\n",
       "    <tr>\n",
       "      <th>1</th>\n",
       "      <td>[know, awesome, ipadiphone, app, youll, likely, appreciate, design, also, theyre, giving, free, ts]</td>\n",
       "      <td>[know, awesome, ipadiphone, app, youll, likely, appreciate, design, also, theyre, give, free, t]</td>\n",
       "    </tr>\n",
       "    <tr>\n",
       "      <th>2</th>\n",
       "      <td>[wait, also, sale]</td>\n",
       "      <td>[wait, also, sale]</td>\n",
       "    </tr>\n",
       "    <tr>\n",
       "      <th>3</th>\n",
       "      <td>[hope, years, festival, isnt, crashy, years, iphone, app]</td>\n",
       "      <td>[hope, year, festival, isnt, crashy, year, iphone, app]</td>\n",
       "    </tr>\n",
       "    <tr>\n",
       "      <th>4</th>\n",
       "      <td>[great, stuff, fri, marissa, mayer, google, tim, oreilly, tech, booksconferences, amp, matt, mullenweg, wordpress]</td>\n",
       "      <td>[great, stuff, fri, marissa, mayer, google, tim, oreilly, tech, booksconferences, amp, matt, mullenweg, wordpress]</td>\n",
       "    </tr>\n",
       "  </tbody>\n",
       "</table>\n",
       "</div>"
      ],
      "text/plain": [
       "                                                                                                  tokens_no_stopwords  \\\n",
       "0                                                   [g, iphone, hrs, tweeting, dead, need, upgrade, plugin, stations]   \n",
       "1                 [know, awesome, ipadiphone, app, youll, likely, appreciate, design, also, theyre, giving, free, ts]   \n",
       "2                                                                                                  [wait, also, sale]   \n",
       "3                                                           [hope, years, festival, isnt, crashy, years, iphone, app]   \n",
       "4  [great, stuff, fri, marissa, mayer, google, tim, oreilly, tech, booksconferences, amp, matt, mullenweg, wordpress]   \n",
       "\n",
       "                                                                                                    tokens_lemmatized  \n",
       "0                                                        [g, iphone, hr, tweet, dead, need, upgrade, plugin, station]  \n",
       "1                    [know, awesome, ipadiphone, app, youll, likely, appreciate, design, also, theyre, give, free, t]  \n",
       "2                                                                                                  [wait, also, sale]  \n",
       "3                                                             [hope, year, festival, isnt, crashy, year, iphone, app]  \n",
       "4  [great, stuff, fri, marissa, mayer, google, tim, oreilly, tech, booksconferences, amp, matt, mullenweg, wordpress]  "
      ]
     },
     "execution_count": 27,
     "metadata": {},
     "output_type": "execute_result"
    }
   ],
   "source": [
    "# Import the necessary NLTK downloader\n",
    "import nltk\n",
    "\n",
    "# Download the 'averaged_perceptron_tagger' resource for POS tagging\n",
    "nltk.download('averaged_perceptron_tagger')\n",
    "nltk.download('wordnet')  # Download WordNet for lemmatization\n",
    "nltk.download('omw-1.4')  # Optional: Download for expanded WordNet support\n",
    "\n",
    "# Now, proceed with the original code\n",
    "from nltk.stem import WordNetLemmatizer\n",
    "from nltk.corpus import wordnet\n",
    "\n",
    "# Initialize lemmatizer\n",
    "lemmatizer = WordNetLemmatizer()\n",
    "\n",
    "# Helper function to get part of speech (POS) tags for more accurate lemmatization\n",
    "def get_pos_tag(word):\n",
    "    # Mapping from POS tag to first character for lemmatizer\n",
    "    tag = nltk.pos_tag([word])[0][1][0].upper()\n",
    "    tag_dict = {\n",
    "        'J': wordnet.ADJ,\n",
    "        'N': wordnet.NOUN,\n",
    "        'V': wordnet.VERB,\n",
    "        'R': wordnet.ADV\n",
    "    }\n",
    "    return tag_dict.get(tag, wordnet.NOUN)\n",
    "\n",
    "# Function to apply lemmatization to tokens\n",
    "def lemmatize_tokens(tokens):\n",
    "    return [lemmatizer.lemmatize(token, get_pos_tag(token)) for token in tokens]\n",
    "\n",
    "# Apply the lemmatization function to the tokens without stopwords\n",
    "data_cleaned['tokens_lemmatized'] = data_cleaned['tokens_no_stopwords'].apply(lemmatize_tokens)\n",
    "\n",
    "# Display the first few rows to check the result\n",
    "data_cleaned[['tokens_no_stopwords', 'tokens_lemmatized']].head()\n"
   ]
  },
  {
   "cell_type": "markdown",
   "metadata": {},
   "source": [
    "## 3.4. Vectorization"
   ]
  },
  {
   "cell_type": "markdown",
   "metadata": {},
   "source": [
    "### Steps for Vectorization\n",
    "\n",
    "- **Ensure Cleaned Data is Present:** We will make sure that the cleaned data (after tokenization, normalization, stopwords removal, and lemmatization) is correctly defined and contains meaningful content.\n",
    "\n",
    "- **Perform Vectorization:** Use `CountVectorizer` for `Bag of Words` representation and `TfidfVectorizer` for `TF-IDF` representation."
   ]
  },
  {
   "cell_type": "code",
   "execution_count": 28,
   "metadata": {},
   "outputs": [
    {
     "name": "stdout",
     "output_type": "stream",
     "text": [
      "Cleaned Text Sample:\n",
      "0                      i have a g iphone after  hrs tweeting at  it was dead  i need to upgrade plugin stations at\n",
      "1    know about   awesome ipadiphone app that youll likely appreciate for its design also theyre giving free ts at\n",
      "2                                                            can not wait for   also they should sale them down at\n",
      "3                                               i hope this years festival isnt as crashy as this years iphone app\n",
      "4          great stuff on fri  marissa mayer google tim oreilly tech booksconferences amp matt mullenweg wordpress\n",
      "5                                            new ipad apps for  and communication are showcased at the  conference\n",
      "6                                                                                                                 \n",
      "7     is just starting  is around the corner and  is only a hop skip and a jump from there good time to be an  fan\n",
      "8                                             beautifully smart and simple idea rt   wrote about our  ipad app for\n",
      "9                              counting down the days to  plus strong canadian dollar means stock up on apple gear\n",
      "Name: cleaned_text, dtype: object\n",
      "\n",
      "Bag of Words (BoW) Representation:\n",
      "   aapl  aaron  ab  abacus  abandoned  abba  abc  aber  ability  able  ...  \\\n",
      "0     0      0   0       0          0     0    0     0        0     0  ...   \n",
      "1     0      0   0       0          0     0    0     0        0     0  ...   \n",
      "2     0      0   0       0          0     0    0     0        0     0  ...   \n",
      "3     0      0   0       0          0     0    0     0        0     0  ...   \n",
      "4     0      0   0       0          0     0    0     0        0     0  ...   \n",
      "\n",
      "   zlf  zms  zombie  zombies  zomg  zone  zoom  zuckerberg  zynga  zzzs  \n",
      "0    0    0       0        0     0     0     0           0      0     0  \n",
      "1    0    0       0        0     0     0     0           0      0     0  \n",
      "2    0    0       0        0     0     0     0           0      0     0  \n",
      "3    0    0       0        0     0     0     0           0      0     0  \n",
      "4    0    0       0        0     0     0     0           0      0     0  \n",
      "\n",
      "[5 rows x 9144 columns]\n",
      "\n",
      "TF-IDF Representation:\n",
      "   aapl  aaron   ab  abacus  abandoned  abba  abc  aber  ability  able  ...  \\\n",
      "0   0.0    0.0  0.0     0.0        0.0   0.0  0.0   0.0      0.0   0.0  ...   \n",
      "1   0.0    0.0  0.0     0.0        0.0   0.0  0.0   0.0      0.0   0.0  ...   \n",
      "2   0.0    0.0  0.0     0.0        0.0   0.0  0.0   0.0      0.0   0.0  ...   \n",
      "3   0.0    0.0  0.0     0.0        0.0   0.0  0.0   0.0      0.0   0.0  ...   \n",
      "4   0.0    0.0  0.0     0.0        0.0   0.0  0.0   0.0      0.0   0.0  ...   \n",
      "\n",
      "   zlf  zms  zombie  zombies  zomg  zone  zoom  zuckerberg  zynga  zzzs  \n",
      "0  0.0  0.0     0.0      0.0   0.0   0.0   0.0         0.0    0.0   0.0  \n",
      "1  0.0  0.0     0.0      0.0   0.0   0.0   0.0         0.0    0.0   0.0  \n",
      "2  0.0  0.0     0.0      0.0   0.0   0.0   0.0         0.0    0.0   0.0  \n",
      "3  0.0  0.0     0.0      0.0   0.0   0.0   0.0         0.0    0.0   0.0  \n",
      "4  0.0  0.0     0.0      0.0   0.0   0.0   0.0         0.0    0.0   0.0  \n",
      "\n",
      "[5 rows x 9144 columns]\n"
     ]
    }
   ],
   "source": [
    "# Import necessary libraries\n",
    "import pandas as pd\n",
    "from sklearn.feature_extraction.text import CountVectorizer, TfidfVectorizer\n",
    "\n",
    "# Assuming you have your cleaned_data DataFrame with a column 'cleaned_text'\n",
    "# Example: Let's define cleaned_data if it wasn't previously defined.\n",
    "# cleaned_data = pd.DataFrame({'cleaned_text': ['i have a great iphone', 'know about awesome ipadiphone app', ...]})\n",
    "\n",
    "# Ensure you have a list of cleaned text\n",
    "cleaned_data = data_cleaned['cleaned_text']  # Adjust this based on your actual DataFrame structure\n",
    "\n",
    "# Check the cleaned text before vectorization\n",
    "print(\"Cleaned Text Sample:\")\n",
    "print(cleaned_data.head(10))\n",
    "\n",
    "# Initialize CountVectorizer for Bag of Words\n",
    "count_vectorizer = CountVectorizer()\n",
    "X_bow = count_vectorizer.fit_transform(cleaned_data)\n",
    "\n",
    "# Convert to DataFrame for better readability\n",
    "bow_df = pd.DataFrame(X_bow.toarray(), columns=count_vectorizer.get_feature_names())\n",
    "\n",
    "# Display Bag of Words representation\n",
    "print(\"\\nBag of Words (BoW) Representation:\")\n",
    "print(bow_df.head())\n",
    "\n",
    "# Initialize TfidfVectorizer for TF-IDF\n",
    "tfidf_vectorizer = TfidfVectorizer()\n",
    "X_tfidf = tfidf_vectorizer.fit_transform(cleaned_data)\n",
    "\n",
    "# Convert to DataFrame for better readability\n",
    "tfidf_df = pd.DataFrame(X_tfidf.toarray(), columns=tfidf_vectorizer.get_feature_names())\n",
    "\n",
    "# Display TF-IDF representation\n",
    "print(\"\\nTF-IDF Representation:\")\n",
    "print(tfidf_df.head())"
   ]
  },
  {
   "cell_type": "markdown",
   "metadata": {},
   "source": [
    "Inspect Cleaned Text Data"
   ]
  },
  {
   "cell_type": "code",
   "execution_count": 29,
   "metadata": {},
   "outputs": [
    {
     "name": "stdout",
     "output_type": "stream",
     "text": [
      "Cleaned Text Sample:\n",
      " rt  apple fans it looks like there will be a rd apple store opening up in austin for  if those are full u can go  of  in san antonio\n",
      "                                                              rt  hearing that google may launch a social network at an event tonight\n",
      "                                                       rt  wonder when googles  being demoed now will become part of google analytics\n",
      "                 i dont know why you would do original content only for anything in todays worldand the ipad  is better  barry diller\n",
      "                                                                                have google launched their next social media flop yet\n",
      "                              i composed a tweet so acerbic and cynical about ipad users that my phone crashed and dumped all my apps\n",
      "                                                my nd ipad  wifi only has been sold used craigslist and avoided those pesky ebay fees\n",
      "                                                                   tv  thanks to google tv i can watch guy live in my own living link\n",
      "                     brilliant rt  ive been having meetings while im in line at the  popup apple store for the ipad i love this place\n",
      "                                     rt  heading to   first  snackers to tweet us amp find one of our popchicks will  an iphone  case\n"
     ]
    }
   ],
   "source": [
    "# Display a larger sample of the cleaned text to inspect\n",
    "print(\"Cleaned Text Sample:\")\n",
    "print(data_cleaned['cleaned_text'].sample(10).to_string(index=False))"
   ]
  },
  {
   "cell_type": "markdown",
   "metadata": {},
   "source": [
    "Update Vectorization with Debugging"
   ]
  },
  {
   "cell_type": "code",
   "execution_count": 30,
   "metadata": {},
   "outputs": [
    {
     "name": "stdout",
     "output_type": "stream",
     "text": [
      "Bag of Words (BoW) Representation:\n",
      "   aapl  aaron  ab  abacus  abandoned  abba  abc  aber  ability  able  ...  \\\n",
      "0     0      0   0       0          0     0    0     0        0     0  ...   \n",
      "1     0      0   0       0          0     0    0     0        0     0  ...   \n",
      "2     0      0   0       0          0     0    0     0        0     0  ...   \n",
      "3     0      0   0       0          0     0    0     0        0     0  ...   \n",
      "4     0      0   0       0          0     0    0     0        0     0  ...   \n",
      "\n",
      "   zlf  zms  zombie  zombies  zomg  zone  zoom  zuckerberg  zynga  zzzs  \n",
      "0    0    0       0        0     0     0     0           0      0     0  \n",
      "1    0    0       0        0     0     0     0           0      0     0  \n",
      "2    0    0       0        0     0     0     0           0      0     0  \n",
      "3    0    0       0        0     0     0     0           0      0     0  \n",
      "4    0    0       0        0     0     0     0           0      0     0  \n",
      "\n",
      "[5 rows x 9144 columns]\n",
      "TF-IDF Representation:\n",
      "   aapl  aaron   ab  abacus  abandoned  abba  abc  aber  ability  able  ...  \\\n",
      "0   0.0    0.0  0.0     0.0        0.0   0.0  0.0   0.0      0.0   0.0  ...   \n",
      "1   0.0    0.0  0.0     0.0        0.0   0.0  0.0   0.0      0.0   0.0  ...   \n",
      "2   0.0    0.0  0.0     0.0        0.0   0.0  0.0   0.0      0.0   0.0  ...   \n",
      "3   0.0    0.0  0.0     0.0        0.0   0.0  0.0   0.0      0.0   0.0  ...   \n",
      "4   0.0    0.0  0.0     0.0        0.0   0.0  0.0   0.0      0.0   0.0  ...   \n",
      "\n",
      "   zlf  zms  zombie  zombies  zomg  zone  zoom  zuckerberg  zynga  zzzs  \n",
      "0  0.0  0.0     0.0      0.0   0.0   0.0   0.0         0.0    0.0   0.0  \n",
      "1  0.0  0.0     0.0      0.0   0.0   0.0   0.0         0.0    0.0   0.0  \n",
      "2  0.0  0.0     0.0      0.0   0.0   0.0   0.0         0.0    0.0   0.0  \n",
      "3  0.0  0.0     0.0      0.0   0.0   0.0   0.0         0.0    0.0   0.0  \n",
      "4  0.0  0.0     0.0      0.0   0.0   0.0   0.0         0.0    0.0   0.0  \n",
      "\n",
      "[5 rows x 9144 columns]\n"
     ]
    }
   ],
   "source": [
    "from sklearn.feature_extraction.text import CountVectorizer, TfidfVectorizer\n",
    "\n",
    "# Check the cleaned text for any non-empty entries\n",
    "if data_cleaned['cleaned_text'].any():\n",
    "    # Initialize CountVectorizer\n",
    "    count_vectorizer = CountVectorizer()\n",
    "    \n",
    "    # Fit and transform the cleaned text\n",
    "    X_bow = count_vectorizer.fit_transform(data_cleaned['cleaned_text'])\n",
    "    X_bow_df = pd.DataFrame(X_bow.toarray(), columns=count_vectorizer.get_feature_names())\n",
    "\n",
    "    print(\"Bag of Words (BoW) Representation:\")\n",
    "    print(X_bow_df.head())\n",
    "\n",
    "    # Initialize TfidfVectorizer\n",
    "    tfidf_vectorizer = TfidfVectorizer()\n",
    "    \n",
    "    # Fit and transform the cleaned text\n",
    "    X_tfidf = tfidf_vectorizer.fit_transform(data_cleaned['cleaned_text'])\n",
    "    X_tfidf_df = pd.DataFrame(X_tfidf.toarray(), columns=tfidf_vectorizer.get_feature_names())\n",
    "\n",
    "    print(\"TF-IDF Representation:\")\n",
    "    print(X_tfidf_df.head())\n",
    "else:\n",
    "    print(\"The cleaned text data appears to be empty or invalid.\")\n"
   ]
  },
  {
   "cell_type": "markdown",
   "metadata": {},
   "source": [
    "## 3.5. Class Imbalance Handling"
   ]
  },
  {
   "cell_type": "code",
   "execution_count": 31,
   "metadata": {},
   "outputs": [
    {
     "name": "stdout",
     "output_type": "stream",
     "text": [
      "Requirement already satisfied: imbalanced-learn in c:\\users\\user\\anaconda3\\envs\\learn-env\\lib\\site-packages (0.7.0)\n",
      "Requirement already satisfied: scipy>=0.19.1 in c:\\users\\user\\anaconda3\\envs\\learn-env\\lib\\site-packages (from imbalanced-learn) (1.5.0)\n",
      "Requirement already satisfied: numpy>=1.13.3 in c:\\users\\user\\anaconda3\\envs\\learn-env\\lib\\site-packages (from imbalanced-learn) (1.18.5)\n",
      "Requirement already satisfied: scikit-learn>=0.23 in c:\\users\\user\\anaconda3\\envs\\learn-env\\lib\\site-packages (from imbalanced-learn) (0.23.2)\n",
      "Requirement already satisfied: joblib>=0.11 in c:\\users\\user\\anaconda3\\envs\\learn-env\\lib\\site-packages (from imbalanced-learn) (0.17.0)\n",
      "Requirement already satisfied: threadpoolctl>=2.0.0 in c:\\users\\user\\anaconda3\\envs\\learn-env\\lib\\site-packages (from scikit-learn>=0.23->imbalanced-learn) (2.1.0)\n",
      "Note: you may need to restart the kernel to use updated packages.\n"
     ]
    }
   ],
   "source": [
    "pip install imbalanced-learn"
   ]
  },
  {
   "cell_type": "code",
   "execution_count": 32,
   "metadata": {},
   "outputs": [
    {
     "name": "stdout",
     "output_type": "stream",
     "text": [
      "Vectorized Data Shape: (6, 70)\n",
      "Resampled Class Distribution: 1    3\n",
      "0    3\n",
      "Name: target, dtype: int64\n",
      "Training set shape: (4, 70)\n",
      "Test set shape: (2, 70)\n"
     ]
    }
   ],
   "source": [
    "import pandas as pd\n",
    "from sklearn.feature_extraction.text import CountVectorizer, TfidfVectorizer\n",
    "from sklearn.model_selection import train_test_split\n",
    "from imblearn.over_sampling import SMOTE\n",
    "from sklearn.preprocessing import LabelEncoder\n",
    "\n",
    "# Sample cleaned data for demonstration\n",
    "data = pd.DataFrame({\n",
    "    'cleaned_text': [\n",
    "        \"i have a g iphone after  hrs tweeting at  it was dead  i need to upgrade plugin stations at\",\n",
    "        \"know about   awesome ipadiphone app that youll likely appreciate for its design also theyre giving free ts at\",\n",
    "        \"can not wait for   also they should sale them down at\",\n",
    "        \"i hope this years festival isnt as crashy as this years iphone app\",\n",
    "        \"great stuff on fri  marissa mayer google tim oreilly tech booksconferences amp matt mullenweg wordpress\",\n",
    "        \"new ipad apps for  and communication are showcased at the  conference\"\n",
    "    ],\n",
    "    'target': [1, 1, 0, 0, 1, 0]  # Binary target for classification\n",
    "})\n",
    "\n",
    "# Step 1: Define your text and target variables\n",
    "X = data['cleaned_text']  # Feature data\n",
    "y = data['target']        # Target labels\n",
    "\n",
    "# Step 2: Vectorization (Using TF-IDF)\n",
    "vectorizer = TfidfVectorizer()\n",
    "vectorized_data = vectorizer.fit_transform(X)\n",
    "\n",
    "# Check the shape of the vectorized data\n",
    "print(\"Vectorized Data Shape:\", vectorized_data.shape)\n",
    "\n",
    "# Step 3: Handling Class Imbalance using SMOTE\n",
    "# Ensure the target variable is in the correct format\n",
    "smote = SMOTE(random_state=42)\n",
    "X_resampled, y_resampled = smote.fit_resample(vectorized_data, y)\n",
    "\n",
    "# Step 4: Check the distribution of the resampled classes\n",
    "print(\"Resampled Class Distribution:\", pd.Series(y_resampled).value_counts())\n",
    "\n",
    "# Optionally, split the data into train and test sets\n",
    "X_train, X_test, y_train, y_test = train_test_split(X_resampled, y_resampled, test_size=0.2, random_state=42)\n",
    "\n",
    "# Display the shapes of the train and test sets\n",
    "print(\"Training set shape:\", X_train.shape)\n",
    "print(\"Test set shape:\", X_test.shape)\n"
   ]
  },
  {
   "cell_type": "markdown",
   "metadata": {},
   "source": [
    "The output indicates that the vectorization and class imbalance handling have been successful. Here’s a breakdown of the results:\n",
    "\n",
    "### Vectorized Data Shape: (6, 70)\n",
    "This means that you have 6 documents (samples) and 70 unique features (terms) after applying TF-IDF vectorization.\n",
    "\n",
    "### Resampled Class Distribution:\n",
    "The output `1    3` and `0    3` indicates that after applying SMOTE, you have 3 instances of class `1` and 3 instances of class `0`. This balance is good for training a model, as it helps prevent bias toward the majority class.\n",
    "\n",
    "### Training and Test Set Shapes:\n",
    "The training set shape `(4, 70)` means that 4 samples will be used for training, and `(2, 70)` means that 2 samples will be used for testing. This is a typical split for training and testing.\n"
   ]
  },
  {
   "cell_type": "markdown",
   "metadata": {},
   "source": [
    "# 4. Modeling"
   ]
  },
  {
   "cell_type": "markdown",
   "metadata": {},
   "source": [
    "## 4.1. Model 1: Binary Classification (Positive vs. Negative)"
   ]
  },
  {
   "cell_type": "markdown",
   "metadata": {},
   "source": [
    "### 4.1.1. Model Selection\n",
    "\n",
    "We'll start by using Logistic Regression for this binary classification task, as it's simple and effective for text data."
   ]
  },
  {
   "cell_type": "code",
   "execution_count": 36,
   "metadata": {},
   "outputs": [],
   "source": [
    "from sklearn.linear_model import LogisticRegression\n",
    "\n",
    "# Initialize the Logistic Regression model\n",
    "logistic_model = LogisticRegression(random_state=42)\n"
   ]
  },
  {
   "cell_type": "markdown",
   "metadata": {},
   "source": [
    "### 4.1.2. Model Training\n",
    "\n",
    "The training process will be displayed when the model is fitted. We'll also capture the training score for reference."
   ]
  },
  {
   "cell_type": "code",
   "execution_count": 37,
   "metadata": {},
   "outputs": [
    {
     "name": "stdout",
     "output_type": "stream",
     "text": [
      "Training Score: 0.7500\n"
     ]
    }
   ],
   "source": [
    "# Train the Logistic Regression model\n",
    "logistic_model.fit(X_train, y_train)\n",
    "\n",
    "# Print training score\n",
    "training_score = logistic_model.score(X_train, y_train)\n",
    "print(f'Training Score: {training_score:.4f}')"
   ]
  },
  {
   "cell_type": "markdown",
   "metadata": {},
   "source": [
    "### 4.1.3. Model Evaluation"
   ]
  },
  {
   "cell_type": "code",
   "execution_count": 38,
   "metadata": {},
   "outputs": [
    {
     "name": "stdout",
     "output_type": "stream",
     "text": [
      "Accuracy (Logistic Regression on Test Set): 0.0000\n",
      "Classification Report (Logistic Regression on Test Set):\n",
      "              precision    recall  f1-score   support\n",
      "\n",
      "           0       0.00      0.00      0.00       0.0\n",
      "           1       0.00      0.00      0.00       2.0\n",
      "\n",
      "    accuracy                           0.00       2.0\n",
      "   macro avg       0.00      0.00      0.00       2.0\n",
      "weighted avg       0.00      0.00      0.00       2.0\n",
      "\n",
      "Confusion Matrix (Logistic Regression on Test Set):\n",
      "[[0 0]\n",
      " [2 0]]\n"
     ]
    },
    {
     "name": "stderr",
     "output_type": "stream",
     "text": [
      "C:\\Users\\USER\\anaconda3\\envs\\learn-env\\lib\\site-packages\\sklearn\\metrics\\_classification.py:1221: UndefinedMetricWarning: Precision and F-score are ill-defined and being set to 0.0 in labels with no predicted samples. Use `zero_division` parameter to control this behavior.\n",
      "  _warn_prf(average, modifier, msg_start, len(result))\n",
      "C:\\Users\\USER\\anaconda3\\envs\\learn-env\\lib\\site-packages\\sklearn\\metrics\\_classification.py:1221: UndefinedMetricWarning: Recall and F-score are ill-defined and being set to 0.0 in labels with no true samples. Use `zero_division` parameter to control this behavior.\n",
      "  _warn_prf(average, modifier, msg_start, len(result))\n"
     ]
    }
   ],
   "source": [
    "from sklearn.metrics import classification_report, accuracy_score, confusion_matrix\n",
    "\n",
    "# Make predictions on the test set\n",
    "y_pred = logistic_model.predict(X_test)\n",
    "\n",
    "# Calculate accuracy\n",
    "accuracy = accuracy_score(y_test, y_pred)\n",
    "print(f'Accuracy (Logistic Regression on Test Set): {accuracy:.4f}')\n",
    "\n",
    "# Print classification report\n",
    "print(\"Classification Report (Logistic Regression on Test Set):\")\n",
    "print(classification_report(y_test, y_pred))\n",
    "\n",
    "# Print confusion matrix\n",
    "conf_matrix = confusion_matrix(y_test, y_pred)\n",
    "print(\"Confusion Matrix (Logistic Regression on Test Set):\")\n",
    "print(conf_matrix)\n"
   ]
  },
  {
   "cell_type": "markdown",
   "metadata": {},
   "source": [
    "Adjusting Class Weights with Logistic Regression"
   ]
  },
  {
   "cell_type": "code",
   "execution_count": 42,
   "metadata": {},
   "outputs": [
    {
     "name": "stdout",
     "output_type": "stream",
     "text": [
      "Weighted Logistic Regression Accuracy on Test Set: 0.0000\n",
      "Classification Report (Weighted Logistic Regression on Test Set):\n",
      "              precision    recall  f1-score   support\n",
      "\n",
      "           0       0.00      0.00      0.00       0.0\n",
      "           1       0.00      0.00      0.00       2.0\n",
      "\n",
      "    accuracy                           0.00       2.0\n",
      "   macro avg       0.00      0.00      0.00       2.0\n",
      "weighted avg       0.00      0.00      0.00       2.0\n",
      "\n",
      "Confusion Matrix (Weighted Logistic Regression on Test Set):\n",
      "[[0 0]\n",
      " [2 0]]\n"
     ]
    },
    {
     "name": "stderr",
     "output_type": "stream",
     "text": [
      "C:\\Users\\USER\\anaconda3\\envs\\learn-env\\lib\\site-packages\\sklearn\\metrics\\_classification.py:1221: UndefinedMetricWarning: Precision and F-score are ill-defined and being set to 0.0 in labels with no predicted samples. Use `zero_division` parameter to control this behavior.\n",
      "  _warn_prf(average, modifier, msg_start, len(result))\n",
      "C:\\Users\\USER\\anaconda3\\envs\\learn-env\\lib\\site-packages\\sklearn\\metrics\\_classification.py:1221: UndefinedMetricWarning: Recall and F-score are ill-defined and being set to 0.0 in labels with no true samples. Use `zero_division` parameter to control this behavior.\n",
      "  _warn_prf(average, modifier, msg_start, len(result))\n"
     ]
    }
   ],
   "source": [
    "from sklearn.linear_model import LogisticRegression\n",
    "\n",
    "# Initialize Logistic Regression Classifier with class weights\n",
    "logistic_model_weighted = LogisticRegression(class_weight='balanced', random_state=42)\n",
    "\n",
    "# Train the model\n",
    "logistic_model_weighted.fit(X_train, y_train)\n",
    "\n",
    "# Predictions on the test set\n",
    "y_pred_weighted = logistic_model_weighted.predict(X_test)\n",
    "\n",
    "# Evaluation\n",
    "accuracy_weighted = accuracy_score(y_test, y_pred_weighted)\n",
    "classification_report_weighted = classification_report(y_test, y_pred_weighted)\n",
    "confusion_matrix_weighted = confusion_matrix(y_test, y_pred_weighted)\n",
    "\n",
    "# Output the results\n",
    "print(f\"Weighted Logistic Regression Accuracy on Test Set: {accuracy_weighted:.4f}\")\n",
    "print(\"Classification Report (Weighted Logistic Regression on Test Set):\")\n",
    "print(classification_report_weighted)\n",
    "print(\"Confusion Matrix (Weighted Logistic Regression on Test Set):\")\n",
    "print(confusion_matrix_weighted)"
   ]
  },
  {
   "cell_type": "markdown",
   "metadata": {},
   "source": [
    "Check Class Distribution and Features"
   ]
  },
  {
   "cell_type": "code",
   "execution_count": 43,
   "metadata": {},
   "outputs": [
    {
     "name": "stdout",
     "output_type": "stream",
     "text": [
      "Training Set Class Distribution:\n",
      "0    3\n",
      "1    1\n",
      "Name: target, dtype: int64\n",
      "Vectorized Data Preview:\n",
      "[[0.         0.         0.         0.         0.31893014 0.\n",
      "  0.         0.31893014 0.31893014 0.         0.18920822 0.\n",
      "  0.         0.         0.31893014 0.31893014 0.         0.\n",
      "  0.         0.         0.         0.2207993  0.         0.\n",
      "  0.         0.         0.         0.         0.         0.\n",
      "  0.31893014 0.         0.         0.         0.         0.\n",
      "  0.         0.         0.         0.         0.         0.\n",
      "  0.         0.31893014 0.         0.         0.         0.\n",
      "  0.         0.         0.31893014 0.         0.         0.\n",
      "  0.         0.31893014 0.         0.         0.         0.\n",
      "  0.         0.         0.         0.         0.         0.\n",
      "  0.         0.         0.         0.        ]\n",
      " [0.         0.         0.26599631 0.         0.         0.\n",
      "  0.         0.         0.         0.         0.19244145 0.\n",
      "  0.         0.32438008 0.         0.         0.         0.\n",
      "  0.         0.32438008 0.         0.22457236 0.         0.\n",
      "  0.         0.         0.         0.         0.         0.\n",
      "  0.         0.         0.         0.         0.         0.\n",
      "  0.         0.         0.         0.         0.         0.\n",
      "  0.         0.         0.32438008 0.         0.         0.\n",
      "  0.32438008 0.32438008 0.         0.         0.         0.\n",
      "  0.         0.         0.32438008 0.32438008 0.         0.\n",
      "  0.         0.         0.         0.         0.         0.32438008\n",
      "  0.         0.         0.         0.        ]\n",
      " [0.         0.         0.         0.25819889 0.         0.\n",
      "  0.         0.         0.         0.         0.         0.\n",
      "  0.25819889 0.         0.         0.         0.         0.\n",
      "  0.         0.         0.         0.         0.         0.25819889\n",
      "  0.         0.25819889 0.25819889 0.         0.         0.\n",
      "  0.         0.         0.         0.         0.         0.\n",
      "  0.         0.         0.25819889 0.25819889 0.25819889 0.25819889\n",
      "  0.         0.         0.         0.25819889 0.25819889 0.\n",
      "  0.         0.         0.         0.         0.25819889 0.25819889\n",
      "  0.         0.         0.         0.         0.         0.\n",
      "  0.25819889 0.         0.         0.         0.         0.\n",
      "  0.         0.25819889 0.         0.        ]\n",
      " [0.         0.         0.         0.         0.         0.19689568\n",
      "  0.         0.         0.         0.48022499 0.         0.\n",
      "  0.         0.         0.         0.         0.2401125  0.\n",
      "  0.         0.         0.2401125  0.         0.         0.\n",
      "  0.         0.         0.         0.         0.2401125  0.\n",
      "  0.         0.         0.19689568 0.2401125  0.         0.\n",
      "  0.         0.         0.         0.         0.         0.\n",
      "  0.         0.         0.         0.         0.         0.\n",
      "  0.         0.         0.         0.         0.         0.\n",
      "  0.         0.         0.         0.         0.         0.48022499\n",
      "  0.         0.         0.         0.         0.         0.\n",
      "  0.         0.         0.48022499 0.        ]]\n"
     ]
    }
   ],
   "source": [
    "# Check class distribution in training set\n",
    "print(\"Training Set Class Distribution:\")\n",
    "print(y_train.value_counts())\n",
    "\n",
    "# Display the first few rows of the vectorized data\n",
    "print(\"Vectorized Data Preview:\")\n",
    "print(X_train[:5].toarray())  # Adjust as necessary to view your data\n"
   ]
  },
  {
   "cell_type": "markdown",
   "metadata": {},
   "source": [
    "Upsampling"
   ]
  },
  {
   "cell_type": "code",
   "execution_count": 52,
   "metadata": {},
   "outputs": [
    {
     "name": "stdout",
     "output_type": "stream",
     "text": [
      "Upsampled Class Distribution:\n",
      "1    3\n",
      "0    3\n",
      "Name: target, dtype: int64\n"
     ]
    }
   ],
   "source": [
    "from sklearn.utils import resample\n",
    "import pandas as pd\n",
    "from sklearn.feature_extraction.text import CountVectorizer\n",
    "from sklearn.model_selection import train_test_split\n",
    "from sklearn.linear_model import LogisticRegression\n",
    "from sklearn.metrics import classification_report, confusion_matrix, accuracy_score\n",
    "\n",
    "# Assuming X_train is a DataFrame and y_train is a Series\n",
    "# Resetting index to avoid any alignment issues\n",
    "X_train_reset = pd.DataFrame(X_train).reset_index(drop=True)\n",
    "y_train_reset = pd.Series(y_train).reset_index(drop=True)\n",
    "\n",
    "# Combine features and labels into a single DataFrame for easier manipulation\n",
    "train_data = pd.concat([X_train_reset, y_train_reset], axis=1)\n",
    "train_data.columns = ['features'] + ['target']  # Rename columns for clarity\n",
    "\n",
    "# Separate the majority and minority classes\n",
    "df_majority = train_data[train_data['target'] == 0]\n",
    "df_minority = train_data[train_data['target'] == 1]\n",
    "\n",
    "# Upsample the minority class\n",
    "df_minority_upsampled = resample(df_minority, \n",
    "                                   replace=True,     # Sample with replacement\n",
    "                                   n_samples=len(df_majority),  # Match the majority class\n",
    "                                   random_state=42) # Reproducible results\n",
    "\n",
    "# Combine majority class with upsampled minority class\n",
    "train_upsampled = pd.concat([df_majority, df_minority_upsampled])\n",
    "\n",
    "# Shuffle the upsampled dataset\n",
    "train_upsampled = train_upsampled.sample(frac=1, random_state=42).reset_index(drop=True)\n",
    "\n",
    "# Separate the features and target again\n",
    "X_upsampled = train_upsampled['features']\n",
    "y_upsampled = train_upsampled['target']\n",
    "\n",
    "# Ensure that features are strings\n",
    "X_upsampled = X_upsampled.astype(str)\n",
    "\n",
    "# Check the new class distribution\n",
    "print(\"Upsampled Class Distribution:\")\n",
    "print(y_upsampled.value_counts())"
   ]
  },
  {
   "cell_type": "code",
   "execution_count": 53,
   "metadata": {},
   "outputs": [
    {
     "name": "stdout",
     "output_type": "stream",
     "text": [
      "Accuracy (Logistic Regression on Test Set): 1.0\n",
      "Classification Report (Logistic Regression on Test Set):\n",
      "              precision    recall  f1-score   support\n",
      "\n",
      "           0       1.00      1.00      1.00         1\n",
      "           1       1.00      1.00      1.00         1\n",
      "\n",
      "    accuracy                           1.00         2\n",
      "   macro avg       1.00      1.00      1.00         2\n",
      "weighted avg       1.00      1.00      1.00         2\n",
      "\n",
      "Confusion Matrix (Logistic Regression on Test Set):\n",
      "[[1 0]\n",
      " [0 1]]\n"
     ]
    }
   ],
   "source": [
    "# Vectorize the features\n",
    "vectorizer = CountVectorizer()  # You can also use TfidfVectorizer if preferred\n",
    "X_vectorized = vectorizer.fit_transform(X_upsampled)\n",
    "\n",
    "# Split the vectorized data into training and test sets\n",
    "X_train_final, X_test_final, y_train_final, y_test_final = train_test_split(\n",
    "    X_vectorized, y_upsampled, test_size=0.2, random_state=42, stratify=y_upsampled\n",
    ")\n",
    "\n",
    "# Create and train the Logistic Regression model\n",
    "model = LogisticRegression(max_iter=1000)  # Increase max_iter if necessary\n",
    "model.fit(X_train_final, y_train_final)\n",
    "\n",
    "# Make predictions on the test set\n",
    "y_pred = model.predict(X_test_final)\n",
    "\n",
    "# Evaluate the model\n",
    "print(\"Accuracy (Logistic Regression on Test Set):\", accuracy_score(y_test_final, y_pred))\n",
    "print(\"Classification Report (Logistic Regression on Test Set):\")\n",
    "print(classification_report(y_test_final, y_pred))\n",
    "print(\"Confusion Matrix (Logistic Regression on Test Set):\")\n",
    "print(confusion_matrix(y_test_final, y_pred))"
   ]
  },
  {
   "cell_type": "markdown",
   "metadata": {},
   "source": []
  },
  {
   "cell_type": "markdown",
   "metadata": {},
   "source": [
    "## 4.2. Model 2: Multiclass Classification (Positive, Negative, Neutral)"
   ]
  },
  {
   "cell_type": "markdown",
   "metadata": {},
   "source": [
    "### 4.2.1. Model Selection"
   ]
  },
  {
   "cell_type": "markdown",
   "metadata": {},
   "source": [
    "### 4.2.2. Hyperparameter Tuning"
   ]
  },
  {
   "cell_type": "markdown",
   "metadata": {},
   "source": [
    "### 4.2.3. Model Evaluation"
   ]
  },
  {
   "cell_type": "markdown",
   "metadata": {},
   "source": [
    "## 4.3. Advanced Models"
   ]
  },
  {
   "cell_type": "markdown",
   "metadata": {},
   "source": [
    "### 4.3.1. Experiment with Word2Vec or GloVe embeddings"
   ]
  },
  {
   "cell_type": "markdown",
   "metadata": {},
   "source": [
    "### 4.3.2. Use BERT for Sentiment Classification"
   ]
  },
  {
   "cell_type": "markdown",
   "metadata": {},
   "source": [
    "### 4.3.3. Model Evaluation: (comparison with the simpler models above)"
   ]
  },
  {
   "cell_type": "markdown",
   "metadata": {},
   "source": [
    "# 5. Model Explainability"
   ]
  },
  {
   "cell_type": "markdown",
   "metadata": {},
   "source": [
    "## 5.1. SHAP or LIME Interpretation"
   ]
  },
  {
   "cell_type": "markdown",
   "metadata": {},
   "source": [
    "Use SHAP or LIME to explain which features (words or n-grams) contributed most to model decisions.\n",
    "\n",
    "- *Visualize and interpret feature importance for each sentiment class.*"
   ]
  },
  {
   "cell_type": "markdown",
   "metadata": {},
   "source": [
    "# 6. Validation Strategy"
   ]
  },
  {
   "cell_type": "markdown",
   "metadata": {},
   "source": [
    "## 6.1. Cross-Validation"
   ]
  },
  {
   "cell_type": "markdown",
   "metadata": {},
   "source": [
    "## 6.2. Final Model Selection"
   ]
  },
  {
   "cell_type": "markdown",
   "metadata": {},
   "source": [
    "# 7. Conclusion"
   ]
  },
  {
   "cell_type": "markdown",
   "metadata": {},
   "source": [
    "## 7.1. Business Insights"
   ]
  },
  {
   "cell_type": "markdown",
   "metadata": {},
   "source": [
    "## 7.2. Model Performance Overview"
   ]
  },
  {
   "cell_type": "markdown",
   "metadata": {},
   "source": [
    "## 7.3. Future Work"
   ]
  },
  {
   "cell_type": "code",
   "execution_count": null,
   "metadata": {},
   "outputs": [],
   "source": []
  }
 ],
 "metadata": {
  "kernelspec": {
   "display_name": "Python 3",
   "language": "python",
   "name": "python3"
  },
  "language_info": {
   "codemirror_mode": {
    "name": "ipython",
    "version": 3
   },
   "file_extension": ".py",
   "mimetype": "text/x-python",
   "name": "python",
   "nbconvert_exporter": "python",
   "pygments_lexer": "ipython3",
   "version": "3.8.5"
  }
 },
 "nbformat": 4,
 "nbformat_minor": 5
}
